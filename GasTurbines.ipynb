{
  "nbformat": 4,
  "nbformat_minor": 0,
  "metadata": {
    "colab": {
      "name": "Neural Networks- Gas Turbines Assignment.ipynb",
      "provenance": []
    },
    "kernelspec": {
      "name": "python3",
      "display_name": "Python 3"
    },
    "language_info": {
      "name": "python"
    }
  },
  "cells": [
    {
      "cell_type": "code",
      "metadata": {
        "id": "L329k5wAgUvf"
      },
      "source": [
        "from sklearn.model_selection import GridSearchCV, KFold,train_test_split\n",
        "from keras.models import Sequential\n",
        "from keras.layers import Dense\n",
        "from keras.wrappers.scikit_learn import KerasClassifier\n",
        "from keras.optimizers import Adam\n",
        "import pandas as pd\n",
        "import numpy as np\n",
        "import keras\n",
        "from sklearn.preprocessing import StandardScaler\n",
        "from sklearn.metrics import confusion_matrix, classification_report, accuracy_score\n",
        "import seaborn as sns\n",
        "from sklearn import preprocessing\n",
        "from keras.wrappers.scikit_learn import KerasRegressor"
      ],
      "execution_count": 11,
      "outputs": []
    },
    {
      "cell_type": "code",
      "metadata": {
        "colab": {
          "base_uri": "https://localhost:8080/",
          "height": 402
        },
        "id": "tD83qeCfhGqp",
        "outputId": "b0c724f7-7edc-4115-b1da-311b07fad123"
      },
      "source": [
        "Turbine = pd.read_csv(\"/content/gas_turbines.csv\")\n",
        "Turbine"
      ],
      "execution_count": 4,
      "outputs": [
        {
          "output_type": "execute_result",
          "data": {
            "text/html": [
              "<div>\n",
              "<style scoped>\n",
              "    .dataframe tbody tr th:only-of-type {\n",
              "        vertical-align: middle;\n",
              "    }\n",
              "\n",
              "    .dataframe tbody tr th {\n",
              "        vertical-align: top;\n",
              "    }\n",
              "\n",
              "    .dataframe thead th {\n",
              "        text-align: right;\n",
              "    }\n",
              "</style>\n",
              "<table border=\"1\" class=\"dataframe\">\n",
              "  <thead>\n",
              "    <tr style=\"text-align: right;\">\n",
              "      <th></th>\n",
              "      <th>AT</th>\n",
              "      <th>AP</th>\n",
              "      <th>AH</th>\n",
              "      <th>AFDP</th>\n",
              "      <th>GTEP</th>\n",
              "      <th>TIT</th>\n",
              "      <th>TAT</th>\n",
              "      <th>TEY</th>\n",
              "      <th>CDP</th>\n",
              "      <th>CO</th>\n",
              "      <th>NOX</th>\n",
              "    </tr>\n",
              "  </thead>\n",
              "  <tbody>\n",
              "    <tr>\n",
              "      <th>0</th>\n",
              "      <td>6.8594</td>\n",
              "      <td>1007.9</td>\n",
              "      <td>96.799</td>\n",
              "      <td>3.5000</td>\n",
              "      <td>19.663</td>\n",
              "      <td>1059.2</td>\n",
              "      <td>550.00</td>\n",
              "      <td>114.70</td>\n",
              "      <td>10.605</td>\n",
              "      <td>3.1547</td>\n",
              "      <td>82.722</td>\n",
              "    </tr>\n",
              "    <tr>\n",
              "      <th>1</th>\n",
              "      <td>6.7850</td>\n",
              "      <td>1008.4</td>\n",
              "      <td>97.118</td>\n",
              "      <td>3.4998</td>\n",
              "      <td>19.728</td>\n",
              "      <td>1059.3</td>\n",
              "      <td>550.00</td>\n",
              "      <td>114.72</td>\n",
              "      <td>10.598</td>\n",
              "      <td>3.2363</td>\n",
              "      <td>82.776</td>\n",
              "    </tr>\n",
              "    <tr>\n",
              "      <th>2</th>\n",
              "      <td>6.8977</td>\n",
              "      <td>1008.8</td>\n",
              "      <td>95.939</td>\n",
              "      <td>3.4824</td>\n",
              "      <td>19.779</td>\n",
              "      <td>1059.4</td>\n",
              "      <td>549.87</td>\n",
              "      <td>114.71</td>\n",
              "      <td>10.601</td>\n",
              "      <td>3.2012</td>\n",
              "      <td>82.468</td>\n",
              "    </tr>\n",
              "    <tr>\n",
              "      <th>3</th>\n",
              "      <td>7.0569</td>\n",
              "      <td>1009.2</td>\n",
              "      <td>95.249</td>\n",
              "      <td>3.4805</td>\n",
              "      <td>19.792</td>\n",
              "      <td>1059.6</td>\n",
              "      <td>549.99</td>\n",
              "      <td>114.72</td>\n",
              "      <td>10.606</td>\n",
              "      <td>3.1923</td>\n",
              "      <td>82.670</td>\n",
              "    </tr>\n",
              "    <tr>\n",
              "      <th>4</th>\n",
              "      <td>7.3978</td>\n",
              "      <td>1009.7</td>\n",
              "      <td>95.150</td>\n",
              "      <td>3.4976</td>\n",
              "      <td>19.765</td>\n",
              "      <td>1059.7</td>\n",
              "      <td>549.98</td>\n",
              "      <td>114.72</td>\n",
              "      <td>10.612</td>\n",
              "      <td>3.2484</td>\n",
              "      <td>82.311</td>\n",
              "    </tr>\n",
              "    <tr>\n",
              "      <th>...</th>\n",
              "      <td>...</td>\n",
              "      <td>...</td>\n",
              "      <td>...</td>\n",
              "      <td>...</td>\n",
              "      <td>...</td>\n",
              "      <td>...</td>\n",
              "      <td>...</td>\n",
              "      <td>...</td>\n",
              "      <td>...</td>\n",
              "      <td>...</td>\n",
              "      <td>...</td>\n",
              "    </tr>\n",
              "    <tr>\n",
              "      <th>15034</th>\n",
              "      <td>9.0301</td>\n",
              "      <td>1005.6</td>\n",
              "      <td>98.460</td>\n",
              "      <td>3.5421</td>\n",
              "      <td>19.164</td>\n",
              "      <td>1049.7</td>\n",
              "      <td>546.21</td>\n",
              "      <td>111.61</td>\n",
              "      <td>10.400</td>\n",
              "      <td>4.5186</td>\n",
              "      <td>79.559</td>\n",
              "    </tr>\n",
              "    <tr>\n",
              "      <th>15035</th>\n",
              "      <td>7.8879</td>\n",
              "      <td>1005.9</td>\n",
              "      <td>99.093</td>\n",
              "      <td>3.5059</td>\n",
              "      <td>19.414</td>\n",
              "      <td>1046.3</td>\n",
              "      <td>543.22</td>\n",
              "      <td>111.78</td>\n",
              "      <td>10.433</td>\n",
              "      <td>4.8470</td>\n",
              "      <td>79.917</td>\n",
              "    </tr>\n",
              "    <tr>\n",
              "      <th>15036</th>\n",
              "      <td>7.2647</td>\n",
              "      <td>1006.3</td>\n",
              "      <td>99.496</td>\n",
              "      <td>3.4770</td>\n",
              "      <td>19.530</td>\n",
              "      <td>1037.7</td>\n",
              "      <td>537.32</td>\n",
              "      <td>110.19</td>\n",
              "      <td>10.483</td>\n",
              "      <td>7.9632</td>\n",
              "      <td>90.912</td>\n",
              "    </tr>\n",
              "    <tr>\n",
              "      <th>15037</th>\n",
              "      <td>7.0060</td>\n",
              "      <td>1006.8</td>\n",
              "      <td>99.008</td>\n",
              "      <td>3.4486</td>\n",
              "      <td>19.377</td>\n",
              "      <td>1043.2</td>\n",
              "      <td>541.24</td>\n",
              "      <td>110.74</td>\n",
              "      <td>10.533</td>\n",
              "      <td>6.2494</td>\n",
              "      <td>93.227</td>\n",
              "    </tr>\n",
              "    <tr>\n",
              "      <th>15038</th>\n",
              "      <td>6.9279</td>\n",
              "      <td>1007.2</td>\n",
              "      <td>97.533</td>\n",
              "      <td>3.4275</td>\n",
              "      <td>19.306</td>\n",
              "      <td>1049.9</td>\n",
              "      <td>545.85</td>\n",
              "      <td>111.58</td>\n",
              "      <td>10.583</td>\n",
              "      <td>4.9816</td>\n",
              "      <td>92.498</td>\n",
              "    </tr>\n",
              "  </tbody>\n",
              "</table>\n",
              "<p>15039 rows × 11 columns</p>\n",
              "</div>"
            ],
            "text/plain": [
              "           AT      AP      AH    AFDP  ...     TEY     CDP      CO     NOX\n",
              "0      6.8594  1007.9  96.799  3.5000  ...  114.70  10.605  3.1547  82.722\n",
              "1      6.7850  1008.4  97.118  3.4998  ...  114.72  10.598  3.2363  82.776\n",
              "2      6.8977  1008.8  95.939  3.4824  ...  114.71  10.601  3.2012  82.468\n",
              "3      7.0569  1009.2  95.249  3.4805  ...  114.72  10.606  3.1923  82.670\n",
              "4      7.3978  1009.7  95.150  3.4976  ...  114.72  10.612  3.2484  82.311\n",
              "...       ...     ...     ...     ...  ...     ...     ...     ...     ...\n",
              "15034  9.0301  1005.6  98.460  3.5421  ...  111.61  10.400  4.5186  79.559\n",
              "15035  7.8879  1005.9  99.093  3.5059  ...  111.78  10.433  4.8470  79.917\n",
              "15036  7.2647  1006.3  99.496  3.4770  ...  110.19  10.483  7.9632  90.912\n",
              "15037  7.0060  1006.8  99.008  3.4486  ...  110.74  10.533  6.2494  93.227\n",
              "15038  6.9279  1007.2  97.533  3.4275  ...  111.58  10.583  4.9816  92.498\n",
              "\n",
              "[15039 rows x 11 columns]"
            ]
          },
          "metadata": {
            "tags": []
          },
          "execution_count": 4
        }
      ]
    },
    {
      "cell_type": "code",
      "metadata": {
        "colab": {
          "base_uri": "https://localhost:8080/"
        },
        "id": "-hFuKd0bhVU9",
        "outputId": "3d211401-bcfa-488e-aea6-7a91790d58e1"
      },
      "source": [
        "Turbine.info()"
      ],
      "execution_count": 5,
      "outputs": [
        {
          "output_type": "stream",
          "text": [
            "<class 'pandas.core.frame.DataFrame'>\n",
            "RangeIndex: 15039 entries, 0 to 15038\n",
            "Data columns (total 11 columns):\n",
            " #   Column  Non-Null Count  Dtype  \n",
            "---  ------  --------------  -----  \n",
            " 0   AT      15039 non-null  float64\n",
            " 1   AP      15039 non-null  float64\n",
            " 2   AH      15039 non-null  float64\n",
            " 3   AFDP    15039 non-null  float64\n",
            " 4   GTEP    15039 non-null  float64\n",
            " 5   TIT     15039 non-null  float64\n",
            " 6   TAT     15039 non-null  float64\n",
            " 7   TEY     15039 non-null  float64\n",
            " 8   CDP     15039 non-null  float64\n",
            " 9   CO      15039 non-null  float64\n",
            " 10  NOX     15039 non-null  float64\n",
            "dtypes: float64(11)\n",
            "memory usage: 1.3 MB\n"
          ],
          "name": "stdout"
        }
      ]
    },
    {
      "cell_type": "code",
      "metadata": {
        "id": "9i2Nt2ichZgp"
      },
      "source": [
        "#There are no Null Values in the data"
      ],
      "execution_count": 6,
      "outputs": []
    },
    {
      "cell_type": "code",
      "metadata": {
        "colab": {
          "base_uri": "https://localhost:8080/"
        },
        "id": "uijr8w7XheAq",
        "outputId": "5b3c6c31-648b-4f74-a492-05ecdfbcac50"
      },
      "source": [
        "Duplicate = Turbine.duplicated()\n",
        "print('Duplicate rows: %d' % Duplicate.sum())"
      ],
      "execution_count": 8,
      "outputs": [
        {
          "output_type": "stream",
          "text": [
            "Duplicate rows: 0\n"
          ],
          "name": "stdout"
        }
      ]
    },
    {
      "cell_type": "code",
      "metadata": {
        "colab": {
          "base_uri": "https://localhost:8080/",
          "height": 304
        },
        "id": "8Xdp5X5HhzD4",
        "outputId": "ff9c3167-3917-40bd-c2af-2d272e0d48cb"
      },
      "source": [
        "Turbine.describe()"
      ],
      "execution_count": 9,
      "outputs": [
        {
          "output_type": "execute_result",
          "data": {
            "text/html": [
              "<div>\n",
              "<style scoped>\n",
              "    .dataframe tbody tr th:only-of-type {\n",
              "        vertical-align: middle;\n",
              "    }\n",
              "\n",
              "    .dataframe tbody tr th {\n",
              "        vertical-align: top;\n",
              "    }\n",
              "\n",
              "    .dataframe thead th {\n",
              "        text-align: right;\n",
              "    }\n",
              "</style>\n",
              "<table border=\"1\" class=\"dataframe\">\n",
              "  <thead>\n",
              "    <tr style=\"text-align: right;\">\n",
              "      <th></th>\n",
              "      <th>AT</th>\n",
              "      <th>AP</th>\n",
              "      <th>AH</th>\n",
              "      <th>AFDP</th>\n",
              "      <th>GTEP</th>\n",
              "      <th>TIT</th>\n",
              "      <th>TAT</th>\n",
              "      <th>TEY</th>\n",
              "      <th>CDP</th>\n",
              "      <th>CO</th>\n",
              "      <th>NOX</th>\n",
              "    </tr>\n",
              "  </thead>\n",
              "  <tbody>\n",
              "    <tr>\n",
              "      <th>count</th>\n",
              "      <td>15039.000000</td>\n",
              "      <td>15039.00000</td>\n",
              "      <td>15039.000000</td>\n",
              "      <td>15039.000000</td>\n",
              "      <td>15039.000000</td>\n",
              "      <td>15039.000000</td>\n",
              "      <td>15039.000000</td>\n",
              "      <td>15039.000000</td>\n",
              "      <td>15039.000000</td>\n",
              "      <td>15039.000000</td>\n",
              "      <td>15039.000000</td>\n",
              "    </tr>\n",
              "    <tr>\n",
              "      <th>mean</th>\n",
              "      <td>17.764381</td>\n",
              "      <td>1013.19924</td>\n",
              "      <td>79.124174</td>\n",
              "      <td>4.200294</td>\n",
              "      <td>25.419061</td>\n",
              "      <td>1083.798770</td>\n",
              "      <td>545.396183</td>\n",
              "      <td>134.188464</td>\n",
              "      <td>12.102353</td>\n",
              "      <td>1.972499</td>\n",
              "      <td>68.190934</td>\n",
              "    </tr>\n",
              "    <tr>\n",
              "      <th>std</th>\n",
              "      <td>7.574323</td>\n",
              "      <td>6.41076</td>\n",
              "      <td>13.793439</td>\n",
              "      <td>0.760197</td>\n",
              "      <td>4.173916</td>\n",
              "      <td>16.527806</td>\n",
              "      <td>7.866803</td>\n",
              "      <td>15.829717</td>\n",
              "      <td>1.103196</td>\n",
              "      <td>2.222206</td>\n",
              "      <td>10.470586</td>\n",
              "    </tr>\n",
              "    <tr>\n",
              "      <th>min</th>\n",
              "      <td>0.522300</td>\n",
              "      <td>985.85000</td>\n",
              "      <td>30.344000</td>\n",
              "      <td>2.087400</td>\n",
              "      <td>17.878000</td>\n",
              "      <td>1000.800000</td>\n",
              "      <td>512.450000</td>\n",
              "      <td>100.170000</td>\n",
              "      <td>9.904400</td>\n",
              "      <td>0.000388</td>\n",
              "      <td>27.765000</td>\n",
              "    </tr>\n",
              "    <tr>\n",
              "      <th>25%</th>\n",
              "      <td>11.408000</td>\n",
              "      <td>1008.90000</td>\n",
              "      <td>69.750000</td>\n",
              "      <td>3.723900</td>\n",
              "      <td>23.294000</td>\n",
              "      <td>1079.600000</td>\n",
              "      <td>542.170000</td>\n",
              "      <td>127.985000</td>\n",
              "      <td>11.622000</td>\n",
              "      <td>0.858055</td>\n",
              "      <td>61.303500</td>\n",
              "    </tr>\n",
              "    <tr>\n",
              "      <th>50%</th>\n",
              "      <td>18.186000</td>\n",
              "      <td>1012.80000</td>\n",
              "      <td>82.266000</td>\n",
              "      <td>4.186200</td>\n",
              "      <td>25.082000</td>\n",
              "      <td>1088.700000</td>\n",
              "      <td>549.890000</td>\n",
              "      <td>133.780000</td>\n",
              "      <td>12.025000</td>\n",
              "      <td>1.390200</td>\n",
              "      <td>66.601000</td>\n",
              "    </tr>\n",
              "    <tr>\n",
              "      <th>75%</th>\n",
              "      <td>23.862500</td>\n",
              "      <td>1016.90000</td>\n",
              "      <td>90.043500</td>\n",
              "      <td>4.550900</td>\n",
              "      <td>27.184000</td>\n",
              "      <td>1096.000000</td>\n",
              "      <td>550.060000</td>\n",
              "      <td>140.895000</td>\n",
              "      <td>12.578000</td>\n",
              "      <td>2.160400</td>\n",
              "      <td>73.935500</td>\n",
              "    </tr>\n",
              "    <tr>\n",
              "      <th>max</th>\n",
              "      <td>34.929000</td>\n",
              "      <td>1034.20000</td>\n",
              "      <td>100.200000</td>\n",
              "      <td>7.610600</td>\n",
              "      <td>37.402000</td>\n",
              "      <td>1100.800000</td>\n",
              "      <td>550.610000</td>\n",
              "      <td>174.610000</td>\n",
              "      <td>15.081000</td>\n",
              "      <td>44.103000</td>\n",
              "      <td>119.890000</td>\n",
              "    </tr>\n",
              "  </tbody>\n",
              "</table>\n",
              "</div>"
            ],
            "text/plain": [
              "                 AT           AP  ...            CO           NOX\n",
              "count  15039.000000  15039.00000  ...  15039.000000  15039.000000\n",
              "mean      17.764381   1013.19924  ...      1.972499     68.190934\n",
              "std        7.574323      6.41076  ...      2.222206     10.470586\n",
              "min        0.522300    985.85000  ...      0.000388     27.765000\n",
              "25%       11.408000   1008.90000  ...      0.858055     61.303500\n",
              "50%       18.186000   1012.80000  ...      1.390200     66.601000\n",
              "75%       23.862500   1016.90000  ...      2.160400     73.935500\n",
              "max       34.929000   1034.20000  ...     44.103000    119.890000\n",
              "\n",
              "[8 rows x 11 columns]"
            ]
          },
          "metadata": {
            "tags": []
          },
          "execution_count": 9
        }
      ]
    },
    {
      "cell_type": "code",
      "metadata": {
        "colab": {
          "base_uri": "https://localhost:8080/",
          "height": 350
        },
        "id": "TTAr6K9Kh9Yn",
        "outputId": "5eb0cfd1-e382-461d-d205-0234efc1f9de"
      },
      "source": [
        "# Data Visualization using Box-Plot Representation\n",
        "# Box-Plots\n",
        "\n",
        "sns.boxplot(Turbine['AT'])"
      ],
      "execution_count": 12,
      "outputs": [
        {
          "output_type": "stream",
          "text": [
            "/usr/local/lib/python3.7/dist-packages/seaborn/_decorators.py:43: FutureWarning: Pass the following variable as a keyword arg: x. From version 0.12, the only valid positional argument will be `data`, and passing other arguments without an explicit keyword will result in an error or misinterpretation.\n",
            "  FutureWarning\n"
          ],
          "name": "stderr"
        },
        {
          "output_type": "execute_result",
          "data": {
            "text/plain": [
              "<matplotlib.axes._subplots.AxesSubplot at 0x7f0fc097a910>"
            ]
          },
          "metadata": {
            "tags": []
          },
          "execution_count": 12
        },
        {
          "output_type": "display_data",
          "data": {
            "image/png": "[encoded data removed]",
            "text/plain": [
              "<Figure size 432x288 with 1 Axes>"
            ]
          },
          "metadata": {
            "tags": [],
            "needs_background": "light"
          }
        }
      ]
    },
    {
      "cell_type": "code",
      "metadata": {
        "colab": {
          "base_uri": "https://localhost:8080/",
          "height": 350
        },
        "id": "709bzPhAiJj6",
        "outputId": "bf4fae6b-3d25-45a2-e91c-e96b416c3113"
      },
      "source": [
        "sns.boxplot(Turbine['AP'])"
      ],
      "execution_count": 13,
      "outputs": [
        {
          "output_type": "stream",
          "text": [
            "/usr/local/lib/python3.7/dist-packages/seaborn/_decorators.py:43: FutureWarning: Pass the following variable as a keyword arg: x. From version 0.12, the only valid positional argument will be `data`, and passing other arguments without an explicit keyword will result in an error or misinterpretation.\n",
            "  FutureWarning\n"
          ],
          "name": "stderr"
        },
        {
          "output_type": "execute_result",
          "data": {
            "text/plain": [
              "<matplotlib.axes._subplots.AxesSubplot at 0x7f0fc08b1350>"
            ]
          },
          "metadata": {
            "tags": []
          },
          "execution_count": 13
        },
        {
          "output_type": "display_data",
          "data": {
            "image/png": "[encoded data removed]",
            "text/plain": [
              "<Figure size 432x288 with 1 Axes>"
            ]
          },
          "metadata": {
            "tags": [],
            "needs_background": "light"
          }
        }
      ]
    },
    {
      "cell_type": "code",
      "metadata": {
        "colab": {
          "base_uri": "https://localhost:8080/",
          "height": 350
        },
        "id": "Qyy7gtDtiedQ",
        "outputId": "c181257f-2199-438c-df03-bf942fd4b3cf"
      },
      "source": [
        "sns.boxplot(Turbine['AH'])"
      ],
      "execution_count": 14,
      "outputs": [
        {
          "output_type": "stream",
          "text": [
            "/usr/local/lib/python3.7/dist-packages/seaborn/_decorators.py:43: FutureWarning: Pass the following variable as a keyword arg: x. From version 0.12, the only valid positional argument will be `data`, and passing other arguments without an explicit keyword will result in an error or misinterpretation.\n",
            "  FutureWarning\n"
          ],
          "name": "stderr"
        },
        {
          "output_type": "execute_result",
          "data": {
            "text/plain": [
              "<matplotlib.axes._subplots.AxesSubplot at 0x7f0fc03dffd0>"
            ]
          },
          "metadata": {
            "tags": []
          },
          "execution_count": 14
        },
        {
          "output_type": "display_data",
          "data": {
            "image/png": "[encoded data removed]",
            "text/plain": [
              "<Figure size 432x288 with 1 Axes>"
            ]
          },
          "metadata": {
            "tags": [],
            "needs_background": "light"
          }
        }
      ]
    },
    {
      "cell_type": "code",
      "metadata": {
        "colab": {
          "base_uri": "https://localhost:8080/",
          "height": 350
        },
        "id": "k7GnHtrEijhN",
        "outputId": "2811e202-cf23-448f-c6a6-66489ae8ceee"
      },
      "source": [
        "sns.boxplot(Turbine['AFDP'])"
      ],
      "execution_count": 15,
      "outputs": [
        {
          "output_type": "stream",
          "text": [
            "/usr/local/lib/python3.7/dist-packages/seaborn/_decorators.py:43: FutureWarning: Pass the following variable as a keyword arg: x. From version 0.12, the only valid positional argument will be `data`, and passing other arguments without an explicit keyword will result in an error or misinterpretation.\n",
            "  FutureWarning\n"
          ],
          "name": "stderr"
        },
        {
          "output_type": "execute_result",
          "data": {
            "text/plain": [
              "<matplotlib.axes._subplots.AxesSubplot at 0x7f0fc044ee10>"
            ]
          },
          "metadata": {
            "tags": []
          },
          "execution_count": 15
        },
        {
          "output_type": "display_data",
          "data": {
            "image/png": "[encoded data removed]",
            "text/plain": [
              "<Figure size 432x288 with 1 Axes>"
            ]
          },
          "metadata": {
            "tags": [],
            "needs_background": "light"
          }
        }
      ]
    },
    {
      "cell_type": "code",
      "metadata": {
        "colab": {
          "base_uri": "https://localhost:8080/",
          "height": 350
        },
        "id": "w6HPjCS8in4Y",
        "outputId": "a6850fd5-5c22-467f-f317-ff094bc725fa"
      },
      "source": [
        "sns.boxplot(Turbine['GTEP'])"
      ],
      "execution_count": 16,
      "outputs": [
        {
          "output_type": "stream",
          "text": [
            "/usr/local/lib/python3.7/dist-packages/seaborn/_decorators.py:43: FutureWarning: Pass the following variable as a keyword arg: x. From version 0.12, the only valid positional argument will be `data`, and passing other arguments without an explicit keyword will result in an error or misinterpretation.\n",
            "  FutureWarning\n"
          ],
          "name": "stderr"
        },
        {
          "output_type": "execute_result",
          "data": {
            "text/plain": [
              "<matplotlib.axes._subplots.AxesSubplot at 0x7f0fc033aad0>"
            ]
          },
          "metadata": {
            "tags": []
          },
          "execution_count": 16
        },
        {
          "output_type": "display_data",
          "data": {
            "image/png": "[encoded data removed]",
            "text/plain": [
              "<Figure size 432x288 with 1 Axes>"
            ]
          },
          "metadata": {
            "tags": [],
            "needs_background": "light"
          }
        }
      ]
    },
    {
      "cell_type": "code",
      "metadata": {
        "colab": {
          "base_uri": "https://localhost:8080/",
          "height": 350
        },
        "id": "cDBGNDqYis40",
        "outputId": "2e275d22-78e3-4323-de05-3c2b179d9f74"
      },
      "source": [
        "sns.boxplot(Turbine['TIT'])"
      ],
      "execution_count": 17,
      "outputs": [
        {
          "output_type": "stream",
          "text": [
            "/usr/local/lib/python3.7/dist-packages/seaborn/_decorators.py:43: FutureWarning: Pass the following variable as a keyword arg: x. From version 0.12, the only valid positional argument will be `data`, and passing other arguments without an explicit keyword will result in an error or misinterpretation.\n",
            "  FutureWarning\n"
          ],
          "name": "stderr"
        },
        {
          "output_type": "execute_result",
          "data": {
            "text/plain": [
              "<matplotlib.axes._subplots.AxesSubplot at 0x7f0fc0345310>"
            ]
          },
          "metadata": {
            "tags": []
          },
          "execution_count": 17
        },
        {
          "output_type": "display_data",
          "data": {
            "image/png": "[encoded data removed]",
            "text/plain": [
              "<Figure size 432x288 with 1 Axes>"
            ]
          },
          "metadata": {
            "tags": [],
            "needs_background": "light"
          }
        }
      ]
    },
    {
      "cell_type": "code",
      "metadata": {
        "colab": {
          "base_uri": "https://localhost:8080/",
          "height": 350
        },
        "id": "vA4Y2ctWixk9",
        "outputId": "95fb6d00-c50c-478c-ac57-c18cb3cc654c"
      },
      "source": [
        "sns.boxplot(Turbine['TAT'])"
      ],
      "execution_count": 18,
      "outputs": [
        {
          "output_type": "stream",
          "text": [
            "/usr/local/lib/python3.7/dist-packages/seaborn/_decorators.py:43: FutureWarning: Pass the following variable as a keyword arg: x. From version 0.12, the only valid positional argument will be `data`, and passing other arguments without an explicit keyword will result in an error or misinterpretation.\n",
            "  FutureWarning\n"
          ],
          "name": "stderr"
        },
        {
          "output_type": "execute_result",
          "data": {
            "text/plain": [
              "<matplotlib.axes._subplots.AxesSubplot at 0x7f0fc0226b90>"
            ]
          },
          "metadata": {
            "tags": []
          },
          "execution_count": 18
        },
        {
          "output_type": "display_data",
          "data": {
            "image/png": "[encoded data removed]",
            "text/plain": [
              "<Figure size 432x288 with 1 Axes>"
            ]
          },
          "metadata": {
            "tags": [],
            "needs_background": "light"
          }
        }
      ]
    },
    {
      "cell_type": "code",
      "metadata": {
        "colab": {
          "base_uri": "https://localhost:8080/",
          "height": 350
        },
        "id": "Do-rtNUri6cl",
        "outputId": "8f03a80e-e296-45a5-9f01-c2ee124010bc"
      },
      "source": [
        "sns.boxplot(Turbine['TEY'])"
      ],
      "execution_count": 19,
      "outputs": [
        {
          "output_type": "stream",
          "text": [
            "/usr/local/lib/python3.7/dist-packages/seaborn/_decorators.py:43: FutureWarning: Pass the following variable as a keyword arg: x. From version 0.12, the only valid positional argument will be `data`, and passing other arguments without an explicit keyword will result in an error or misinterpretation.\n",
            "  FutureWarning\n"
          ],
          "name": "stderr"
        },
        {
          "output_type": "execute_result",
          "data": {
            "text/plain": [
              "<matplotlib.axes._subplots.AxesSubplot at 0x7f0fc0210c50>"
            ]
          },
          "metadata": {
            "tags": []
          },
          "execution_count": 19
        },
        {
          "output_type": "display_data",
          "data": {
            "image/png": "[encoded data removed]",
            "text/plain": [
              "<Figure size 432x288 with 1 Axes>"
            ]
          },
          "metadata": {
            "tags": [],
            "needs_background": "light"
          }
        }
      ]
    },
    {
      "cell_type": "code",
      "metadata": {
        "colab": {
          "base_uri": "https://localhost:8080/",
          "height": 350
        },
        "id": "bHu5G8sii7qX",
        "outputId": "89360944-cd9c-4bd5-afdb-54aa83b2c57a"
      },
      "source": [
        "sns.boxplot(Turbine['CDP'])"
      ],
      "execution_count": 20,
      "outputs": [
        {
          "output_type": "stream",
          "text": [
            "/usr/local/lib/python3.7/dist-packages/seaborn/_decorators.py:43: FutureWarning: Pass the following variable as a keyword arg: x. From version 0.12, the only valid positional argument will be `data`, and passing other arguments without an explicit keyword will result in an error or misinterpretation.\n",
            "  FutureWarning\n"
          ],
          "name": "stderr"
        },
        {
          "output_type": "execute_result",
          "data": {
            "text/plain": [
              "<matplotlib.axes._subplots.AxesSubplot at 0x7f0fc0180ed0>"
            ]
          },
          "metadata": {
            "tags": []
          },
          "execution_count": 20
        },
        {
          "output_type": "display_data",
          "data": {
            "image/png": "[encoded data removed]",
            "text/plain": [
              "<Figure size 432x288 with 1 Axes>"
            ]
          },
          "metadata": {
            "tags": [],
            "needs_background": "light"
          }
        }
      ]
    },
    {
      "cell_type": "code",
      "metadata": {
        "colab": {
          "base_uri": "https://localhost:8080/",
          "height": 350
        },
        "id": "kDpgV7aojDvL",
        "outputId": "34376c32-cf1a-45b3-e968-f833b8af97aa"
      },
      "source": [
        "sns.boxplot(Turbine['CO'])"
      ],
      "execution_count": 21,
      "outputs": [
        {
          "output_type": "stream",
          "text": [
            "/usr/local/lib/python3.7/dist-packages/seaborn/_decorators.py:43: FutureWarning: Pass the following variable as a keyword arg: x. From version 0.12, the only valid positional argument will be `data`, and passing other arguments without an explicit keyword will result in an error or misinterpretation.\n",
            "  FutureWarning\n"
          ],
          "name": "stderr"
        },
        {
          "output_type": "execute_result",
          "data": {
            "text/plain": [
              "<matplotlib.axes._subplots.AxesSubplot at 0x7f0fc00f1490>"
            ]
          },
          "metadata": {
            "tags": []
          },
          "execution_count": 21
        },
        {
          "output_type": "display_data",
          "data": {
            "image/png": "[encoded data removed]",
            "text/plain": [
              "<Figure size 432x288 with 1 Axes>"
            ]
          },
          "metadata": {
            "tags": [],
            "needs_background": "light"
          }
        }
      ]
    },
    {
      "cell_type": "code",
      "metadata": {
        "colab": {
          "base_uri": "https://localhost:8080/",
          "height": 350
        },
        "id": "fpFjAHK-jFHU",
        "outputId": "4d0e72e7-cdb4-4faf-9fc2-f47764a2ca84"
      },
      "source": [
        "sns.boxplot(Turbine['NOX'])"
      ],
      "execution_count": 22,
      "outputs": [
        {
          "output_type": "stream",
          "text": [
            "/usr/local/lib/python3.7/dist-packages/seaborn/_decorators.py:43: FutureWarning: Pass the following variable as a keyword arg: x. From version 0.12, the only valid positional argument will be `data`, and passing other arguments without an explicit keyword will result in an error or misinterpretation.\n",
            "  FutureWarning\n"
          ],
          "name": "stderr"
        },
        {
          "output_type": "execute_result",
          "data": {
            "text/plain": [
              "<matplotlib.axes._subplots.AxesSubplot at 0x7f0fc0352a10>"
            ]
          },
          "metadata": {
            "tags": []
          },
          "execution_count": 22
        },
        {
          "output_type": "display_data",
          "data": {
            "image/png": "[encoded data removed]",
            "text/plain": [
              "<Figure size 432x288 with 1 Axes>"
            ]
          },
          "metadata": {
            "tags": [],
            "needs_background": "light"
          }
        }
      ]
    },
    {
      "cell_type": "code",
      "metadata": {
        "id": "yyVIcWPZjHM6"
      },
      "source": [
        "# From the above we can see that there are outliers present in the data set"
      ],
      "execution_count": 23,
      "outputs": []
    },
    {
      "cell_type": "markdown",
      "metadata": {
        "id": "2gLT8h9TjeQA"
      },
      "source": [
        "# HEATMAP\n",
        "# We'll now check for the missing values and correlation"
      ]
    },
    {
      "cell_type": "code",
      "metadata": {
        "colab": {
          "base_uri": "https://localhost:8080/",
          "height": 303
        },
        "id": "9_AtT6mgjfi6",
        "outputId": "0532e672-e197-443b-83ce-d44314bd15d2"
      },
      "source": [
        "sns.heatmap(Turbine.isnull())"
      ],
      "execution_count": 26,
      "outputs": [
        {
          "output_type": "execute_result",
          "data": {
            "text/plain": [
              "<matplotlib.axes._subplots.AxesSubplot at 0x7f0fbfff6b90>"
            ]
          },
          "metadata": {
            "tags": []
          },
          "execution_count": 26
        },
        {
          "output_type": "display_data",
          "data": {
            "image/png": "[encoded data removed]",
            "text/plain": [
              "<Figure size 432x288 with 2 Axes>"
            ]
          },
          "metadata": {
            "tags": [],
            "needs_background": "light"
          }
        }
      ]
    },
    {
      "cell_type": "code",
      "metadata": {
        "id": "Elsq04qYjjTw"
      },
      "source": [
        "# We' found no missing values in the above. "
      ],
      "execution_count": 27,
      "outputs": []
    },
    {
      "cell_type": "code",
      "metadata": {
        "id": "nY1_pe3ujtbY"
      },
      "source": [
        "X = Turbine.drop([\"TEY\"], axis = 1)\n",
        "           \n",
        "Y = Turbine['TEY']"
      ],
      "execution_count": 28,
      "outputs": []
    },
    {
      "cell_type": "code",
      "metadata": {
        "id": "QChzhRLFjzBo"
      },
      "source": [
        "# Train and Test\n",
        "X_train, X_test, Y_train, Y_test = train_test_split(X, Y, test_size = .3, random_state = 30)"
      ],
      "execution_count": 29,
      "outputs": []
    },
    {
      "cell_type": "code",
      "metadata": {
        "colab": {
          "base_uri": "https://localhost:8080/",
          "height": 402
        },
        "id": "HcUOiwTaj4Iu",
        "outputId": "64c5f96c-3454-4b3b-eb17-0396020ab2e9"
      },
      "source": [
        "X_train"
      ],
      "execution_count": 30,
      "outputs": [
        {
          "output_type": "execute_result",
          "data": {
            "text/html": [
              "<div>\n",
              "<style scoped>\n",
              "    .dataframe tbody tr th:only-of-type {\n",
              "        vertical-align: middle;\n",
              "    }\n",
              "\n",
              "    .dataframe tbody tr th {\n",
              "        vertical-align: top;\n",
              "    }\n",
              "\n",
              "    .dataframe thead th {\n",
              "        text-align: right;\n",
              "    }\n",
              "</style>\n",
              "<table border=\"1\" class=\"dataframe\">\n",
              "  <thead>\n",
              "    <tr style=\"text-align: right;\">\n",
              "      <th></th>\n",
              "      <th>AT</th>\n",
              "      <th>AP</th>\n",
              "      <th>AH</th>\n",
              "      <th>AFDP</th>\n",
              "      <th>GTEP</th>\n",
              "      <th>TIT</th>\n",
              "      <th>TAT</th>\n",
              "      <th>CDP</th>\n",
              "      <th>CO</th>\n",
              "      <th>NOX</th>\n",
              "    </tr>\n",
              "  </thead>\n",
              "  <tbody>\n",
              "    <tr>\n",
              "      <th>8657</th>\n",
              "      <td>10.3710</td>\n",
              "      <td>1013.2</td>\n",
              "      <td>79.248</td>\n",
              "      <td>5.3459</td>\n",
              "      <td>32.504</td>\n",
              "      <td>1100.0</td>\n",
              "      <td>529.88</td>\n",
              "      <td>13.927</td>\n",
              "      <td>0.53957</td>\n",
              "      <td>69.077</td>\n",
              "    </tr>\n",
              "    <tr>\n",
              "      <th>1247</th>\n",
              "      <td>8.8245</td>\n",
              "      <td>1025.3</td>\n",
              "      <td>84.123</td>\n",
              "      <td>3.9071</td>\n",
              "      <td>19.568</td>\n",
              "      <td>1047.9</td>\n",
              "      <td>543.61</td>\n",
              "      <td>10.564</td>\n",
              "      <td>5.55750</td>\n",
              "      <td>104.330</td>\n",
              "    </tr>\n",
              "    <tr>\n",
              "      <th>11304</th>\n",
              "      <td>26.1200</td>\n",
              "      <td>1013.8</td>\n",
              "      <td>64.292</td>\n",
              "      <td>3.7668</td>\n",
              "      <td>25.472</td>\n",
              "      <td>1091.6</td>\n",
              "      <td>549.91</td>\n",
              "      <td>12.181</td>\n",
              "      <td>0.72197</td>\n",
              "      <td>63.585</td>\n",
              "    </tr>\n",
              "    <tr>\n",
              "      <th>8857</th>\n",
              "      <td>5.7492</td>\n",
              "      <td>1016.4</td>\n",
              "      <td>84.679</td>\n",
              "      <td>4.2248</td>\n",
              "      <td>23.888</td>\n",
              "      <td>1087.2</td>\n",
              "      <td>550.00</td>\n",
              "      <td>12.013</td>\n",
              "      <td>0.33097</td>\n",
              "      <td>83.428</td>\n",
              "    </tr>\n",
              "    <tr>\n",
              "      <th>8812</th>\n",
              "      <td>5.7551</td>\n",
              "      <td>1012.5</td>\n",
              "      <td>92.997</td>\n",
              "      <td>5.3251</td>\n",
              "      <td>32.578</td>\n",
              "      <td>1100.0</td>\n",
              "      <td>528.18</td>\n",
              "      <td>14.113</td>\n",
              "      <td>0.79035</td>\n",
              "      <td>66.038</td>\n",
              "    </tr>\n",
              "    <tr>\n",
              "      <th>...</th>\n",
              "      <td>...</td>\n",
              "      <td>...</td>\n",
              "      <td>...</td>\n",
              "      <td>...</td>\n",
              "      <td>...</td>\n",
              "      <td>...</td>\n",
              "      <td>...</td>\n",
              "      <td>...</td>\n",
              "      <td>...</td>\n",
              "      <td>...</td>\n",
              "    </tr>\n",
              "    <tr>\n",
              "      <th>13452</th>\n",
              "      <td>23.1540</td>\n",
              "      <td>1014.0</td>\n",
              "      <td>71.004</td>\n",
              "      <td>4.4694</td>\n",
              "      <td>28.885</td>\n",
              "      <td>1100.4</td>\n",
              "      <td>543.40</td>\n",
              "      <td>12.992</td>\n",
              "      <td>1.14260</td>\n",
              "      <td>61.138</td>\n",
              "    </tr>\n",
              "    <tr>\n",
              "      <th>500</th>\n",
              "      <td>2.8258</td>\n",
              "      <td>1009.1</td>\n",
              "      <td>81.773</td>\n",
              "      <td>5.0467</td>\n",
              "      <td>29.647</td>\n",
              "      <td>1099.9</td>\n",
              "      <td>541.14</td>\n",
              "      <td>13.210</td>\n",
              "      <td>0.16464</td>\n",
              "      <td>79.371</td>\n",
              "    </tr>\n",
              "    <tr>\n",
              "      <th>12077</th>\n",
              "      <td>31.3320</td>\n",
              "      <td>1014.2</td>\n",
              "      <td>49.275</td>\n",
              "      <td>4.4837</td>\n",
              "      <td>29.665</td>\n",
              "      <td>1099.5</td>\n",
              "      <td>541.85</td>\n",
              "      <td>13.211</td>\n",
              "      <td>0.87442</td>\n",
              "      <td>58.806</td>\n",
              "    </tr>\n",
              "    <tr>\n",
              "      <th>4517</th>\n",
              "      <td>28.5630</td>\n",
              "      <td>1009.9</td>\n",
              "      <td>64.346</td>\n",
              "      <td>4.3587</td>\n",
              "      <td>26.438</td>\n",
              "      <td>1094.3</td>\n",
              "      <td>549.97</td>\n",
              "      <td>12.290</td>\n",
              "      <td>0.48279</td>\n",
              "      <td>62.532</td>\n",
              "    </tr>\n",
              "    <tr>\n",
              "      <th>5925</th>\n",
              "      <td>21.1160</td>\n",
              "      <td>1012.1</td>\n",
              "      <td>86.218</td>\n",
              "      <td>4.4351</td>\n",
              "      <td>25.283</td>\n",
              "      <td>1089.3</td>\n",
              "      <td>550.16</td>\n",
              "      <td>12.047</td>\n",
              "      <td>2.22070</td>\n",
              "      <td>60.612</td>\n",
              "    </tr>\n",
              "  </tbody>\n",
              "</table>\n",
              "<p>10527 rows × 10 columns</p>\n",
              "</div>"
            ],
            "text/plain": [
              "            AT      AP      AH    AFDP  ...     TAT     CDP       CO      NOX\n",
              "8657   10.3710  1013.2  79.248  5.3459  ...  529.88  13.927  0.53957   69.077\n",
              "1247    8.8245  1025.3  84.123  3.9071  ...  543.61  10.564  5.55750  104.330\n",
              "11304  26.1200  1013.8  64.292  3.7668  ...  549.91  12.181  0.72197   63.585\n",
              "8857    5.7492  1016.4  84.679  4.2248  ...  550.00  12.013  0.33097   83.428\n",
              "8812    5.7551  1012.5  92.997  5.3251  ...  528.18  14.113  0.79035   66.038\n",
              "...        ...     ...     ...     ...  ...     ...     ...      ...      ...\n",
              "13452  23.1540  1014.0  71.004  4.4694  ...  543.40  12.992  1.14260   61.138\n",
              "500     2.8258  1009.1  81.773  5.0467  ...  541.14  13.210  0.16464   79.371\n",
              "12077  31.3320  1014.2  49.275  4.4837  ...  541.85  13.211  0.87442   58.806\n",
              "4517   28.5630  1009.9  64.346  4.3587  ...  549.97  12.290  0.48279   62.532\n",
              "5925   21.1160  1012.1  86.218  4.4351  ...  550.16  12.047  2.22070   60.612\n",
              "\n",
              "[10527 rows x 10 columns]"
            ]
          },
          "metadata": {
            "tags": []
          },
          "execution_count": 30
        }
      ]
    },
    {
      "cell_type": "code",
      "metadata": {
        "colab": {
          "base_uri": "https://localhost:8080/",
          "height": 402
        },
        "id": "MpFQZZGWj6gD",
        "outputId": "4f69cb43-0339-474f-9533-c4350e5e25f2"
      },
      "source": [
        "X_test"
      ],
      "execution_count": 31,
      "outputs": [
        {
          "output_type": "execute_result",
          "data": {
            "text/html": [
              "<div>\n",
              "<style scoped>\n",
              "    .dataframe tbody tr th:only-of-type {\n",
              "        vertical-align: middle;\n",
              "    }\n",
              "\n",
              "    .dataframe tbody tr th {\n",
              "        vertical-align: top;\n",
              "    }\n",
              "\n",
              "    .dataframe thead th {\n",
              "        text-align: right;\n",
              "    }\n",
              "</style>\n",
              "<table border=\"1\" class=\"dataframe\">\n",
              "  <thead>\n",
              "    <tr style=\"text-align: right;\">\n",
              "      <th></th>\n",
              "      <th>AT</th>\n",
              "      <th>AP</th>\n",
              "      <th>AH</th>\n",
              "      <th>AFDP</th>\n",
              "      <th>GTEP</th>\n",
              "      <th>TIT</th>\n",
              "      <th>TAT</th>\n",
              "      <th>CDP</th>\n",
              "      <th>CO</th>\n",
              "      <th>NOX</th>\n",
              "    </tr>\n",
              "  </thead>\n",
              "  <tbody>\n",
              "    <tr>\n",
              "      <th>3390</th>\n",
              "      <td>29.2670</td>\n",
              "      <td>1012.4</td>\n",
              "      <td>43.795</td>\n",
              "      <td>4.2298</td>\n",
              "      <td>26.061</td>\n",
              "      <td>1093.2</td>\n",
              "      <td>550.06</td>\n",
              "      <td>12.206</td>\n",
              "      <td>1.64120</td>\n",
              "      <td>71.559</td>\n",
              "    </tr>\n",
              "    <tr>\n",
              "      <th>1194</th>\n",
              "      <td>11.5230</td>\n",
              "      <td>1024.4</td>\n",
              "      <td>88.089</td>\n",
              "      <td>4.3647</td>\n",
              "      <td>22.037</td>\n",
              "      <td>1069.2</td>\n",
              "      <td>548.48</td>\n",
              "      <td>11.221</td>\n",
              "      <td>2.42510</td>\n",
              "      <td>76.116</td>\n",
              "    </tr>\n",
              "    <tr>\n",
              "      <th>13890</th>\n",
              "      <td>15.2260</td>\n",
              "      <td>1019.0</td>\n",
              "      <td>84.659</td>\n",
              "      <td>3.8886</td>\n",
              "      <td>24.045</td>\n",
              "      <td>1087.1</td>\n",
              "      <td>549.91</td>\n",
              "      <td>11.938</td>\n",
              "      <td>1.70650</td>\n",
              "      <td>75.188</td>\n",
              "    </tr>\n",
              "    <tr>\n",
              "      <th>5570</th>\n",
              "      <td>27.3820</td>\n",
              "      <td>1016.1</td>\n",
              "      <td>61.555</td>\n",
              "      <td>4.4794</td>\n",
              "      <td>26.085</td>\n",
              "      <td>1093.7</td>\n",
              "      <td>550.04</td>\n",
              "      <td>12.337</td>\n",
              "      <td>1.38720</td>\n",
              "      <td>66.656</td>\n",
              "    </tr>\n",
              "    <tr>\n",
              "      <th>6190</th>\n",
              "      <td>19.1010</td>\n",
              "      <td>1008.6</td>\n",
              "      <td>83.062</td>\n",
              "      <td>4.3643</td>\n",
              "      <td>25.352</td>\n",
              "      <td>1089.7</td>\n",
              "      <td>550.16</td>\n",
              "      <td>12.030</td>\n",
              "      <td>2.47550</td>\n",
              "      <td>68.209</td>\n",
              "    </tr>\n",
              "    <tr>\n",
              "      <th>...</th>\n",
              "      <td>...</td>\n",
              "      <td>...</td>\n",
              "      <td>...</td>\n",
              "      <td>...</td>\n",
              "      <td>...</td>\n",
              "      <td>...</td>\n",
              "      <td>...</td>\n",
              "      <td>...</td>\n",
              "      <td>...</td>\n",
              "      <td>...</td>\n",
              "    </tr>\n",
              "    <tr>\n",
              "      <th>2257</th>\n",
              "      <td>18.9440</td>\n",
              "      <td>1014.1</td>\n",
              "      <td>89.131</td>\n",
              "      <td>5.1693</td>\n",
              "      <td>24.526</td>\n",
              "      <td>1085.5</td>\n",
              "      <td>550.14</td>\n",
              "      <td>11.883</td>\n",
              "      <td>4.45670</td>\n",
              "      <td>66.682</td>\n",
              "    </tr>\n",
              "    <tr>\n",
              "      <th>5628</th>\n",
              "      <td>19.5830</td>\n",
              "      <td>1015.7</td>\n",
              "      <td>96.398</td>\n",
              "      <td>4.9962</td>\n",
              "      <td>26.867</td>\n",
              "      <td>1098.8</td>\n",
              "      <td>549.54</td>\n",
              "      <td>12.571</td>\n",
              "      <td>0.90150</td>\n",
              "      <td>68.560</td>\n",
              "    </tr>\n",
              "    <tr>\n",
              "      <th>11140</th>\n",
              "      <td>23.4840</td>\n",
              "      <td>1013.7</td>\n",
              "      <td>83.599</td>\n",
              "      <td>3.7478</td>\n",
              "      <td>25.292</td>\n",
              "      <td>1090.6</td>\n",
              "      <td>550.39</td>\n",
              "      <td>12.123</td>\n",
              "      <td>0.36809</td>\n",
              "      <td>68.403</td>\n",
              "    </tr>\n",
              "    <tr>\n",
              "      <th>14565</th>\n",
              "      <td>7.0032</td>\n",
              "      <td>1024.3</td>\n",
              "      <td>83.088</td>\n",
              "      <td>3.7814</td>\n",
              "      <td>22.643</td>\n",
              "      <td>1078.7</td>\n",
              "      <td>550.09</td>\n",
              "      <td>11.591</td>\n",
              "      <td>2.13770</td>\n",
              "      <td>83.309</td>\n",
              "    </tr>\n",
              "    <tr>\n",
              "      <th>8048</th>\n",
              "      <td>12.0350</td>\n",
              "      <td>1015.3</td>\n",
              "      <td>85.392</td>\n",
              "      <td>4.9852</td>\n",
              "      <td>33.011</td>\n",
              "      <td>1099.9</td>\n",
              "      <td>528.33</td>\n",
              "      <td>14.075</td>\n",
              "      <td>0.11198</td>\n",
              "      <td>63.198</td>\n",
              "    </tr>\n",
              "  </tbody>\n",
              "</table>\n",
              "<p>4512 rows × 10 columns</p>\n",
              "</div>"
            ],
            "text/plain": [
              "            AT      AP      AH    AFDP  ...     TAT     CDP       CO     NOX\n",
              "3390   29.2670  1012.4  43.795  4.2298  ...  550.06  12.206  1.64120  71.559\n",
              "1194   11.5230  1024.4  88.089  4.3647  ...  548.48  11.221  2.42510  76.116\n",
              "13890  15.2260  1019.0  84.659  3.8886  ...  549.91  11.938  1.70650  75.188\n",
              "5570   27.3820  1016.1  61.555  4.4794  ...  550.04  12.337  1.38720  66.656\n",
              "6190   19.1010  1008.6  83.062  4.3643  ...  550.16  12.030  2.47550  68.209\n",
              "...        ...     ...     ...     ...  ...     ...     ...      ...     ...\n",
              "2257   18.9440  1014.1  89.131  5.1693  ...  550.14  11.883  4.45670  66.682\n",
              "5628   19.5830  1015.7  96.398  4.9962  ...  549.54  12.571  0.90150  68.560\n",
              "11140  23.4840  1013.7  83.599  3.7478  ...  550.39  12.123  0.36809  68.403\n",
              "14565   7.0032  1024.3  83.088  3.7814  ...  550.09  11.591  2.13770  83.309\n",
              "8048   12.0350  1015.3  85.392  4.9852  ...  528.33  14.075  0.11198  63.198\n",
              "\n",
              "[4512 rows x 10 columns]"
            ]
          },
          "metadata": {
            "tags": []
          },
          "execution_count": 31
        }
      ]
    },
    {
      "cell_type": "code",
      "metadata": {
        "colab": {
          "base_uri": "https://localhost:8080/"
        },
        "id": "uaMxJzAtj8WG",
        "outputId": "09a87012-d743-478e-e2dd-5dcd8a270104"
      },
      "source": [
        "Y_train"
      ],
      "execution_count": 32,
      "outputs": [
        {
          "output_type": "execute_result",
          "data": {
            "text/plain": [
              "8657     160.70\n",
              "1247     111.70\n",
              "11304    133.80\n",
              "8857     134.46\n",
              "8812     164.57\n",
              "          ...  \n",
              "13452    146.73\n",
              "500      156.47\n",
              "12077    146.47\n",
              "4517     134.75\n",
              "5925     133.64\n",
              "Name: TEY, Length: 10527, dtype: float64"
            ]
          },
          "metadata": {
            "tags": []
          },
          "execution_count": 32
        }
      ]
    },
    {
      "cell_type": "code",
      "metadata": {
        "colab": {
          "base_uri": "https://localhost:8080/"
        },
        "id": "yF57vFCEj_Kz",
        "outputId": "5c49464b-33cc-4e11-d15c-4701f448de4b"
      },
      "source": [
        "Y_test"
      ],
      "execution_count": 33,
      "outputs": [
        {
          "output_type": "execute_result",
          "data": {
            "text/plain": [
              "3390     132.78\n",
              "1194     122.78\n",
              "13890    133.78\n",
              "5570     133.76\n",
              "6190     134.26\n",
              "          ...  \n",
              "2257     131.16\n",
              "5628     141.54\n",
              "11140    133.82\n",
              "14565    130.25\n",
              "8048     160.95\n",
              "Name: TEY, Length: 4512, dtype: float64"
            ]
          },
          "metadata": {
            "tags": []
          },
          "execution_count": 33
        }
      ]
    },
    {
      "cell_type": "code",
      "metadata": {
        "colab": {
          "base_uri": "https://localhost:8080/"
        },
        "id": "JD_jRZ35kA34",
        "outputId": "46442ca1-2f8c-474c-d03a-9bfd820a0edf"
      },
      "source": [
        "Y_train = np.array(Y_train)\n",
        "Y_train"
      ],
      "execution_count": 34,
      "outputs": [
        {
          "output_type": "execute_result",
          "data": {
            "text/plain": [
              "array([160.7 , 111.7 , 133.8 , ..., 146.47, 134.75, 133.64])"
            ]
          },
          "metadata": {
            "tags": []
          },
          "execution_count": 34
        }
      ]
    },
    {
      "cell_type": "code",
      "metadata": {
        "colab": {
          "base_uri": "https://localhost:8080/"
        },
        "id": "HCfuVueCkEUe",
        "outputId": "74abc29f-9d44-4cb6-b889-b75127535f78"
      },
      "source": [
        "\n",
        "Y_test = np.array(Y_test)\n",
        "Y_test"
      ],
      "execution_count": 35,
      "outputs": [
        {
          "output_type": "execute_result",
          "data": {
            "text/plain": [
              "array([132.78, 122.78, 133.78, ..., 133.82, 130.25, 160.95])"
            ]
          },
          "metadata": {
            "tags": []
          },
          "execution_count": 35
        }
      ]
    },
    {
      "cell_type": "markdown",
      "metadata": {
        "id": "5PW4cXXmkSop"
      },
      "source": [
        "# NORMALIZATION\n",
        "# We'll use Normalization to make our data consistent and scalefree\n"
      ]
    },
    {
      "cell_type": "code",
      "metadata": {
        "id": "Z26l_AdnkTkL"
      },
      "source": [
        "# Using MinMax Scaler\n",
        "# fit scaler on training data\n",
        "\n",
        "from sklearn.preprocessing import MinMaxScaler\n",
        "norm = MinMaxScaler().fit(X_train)\n",
        "\n",
        "# transform training data\n",
        "X_train_norm = norm.transform(X_train)\n",
        "\n",
        "# transform testing dataabs\n",
        "X_test_norm = norm.transform(X_test)"
      ],
      "execution_count": 37,
      "outputs": []
    },
    {
      "cell_type": "code",
      "metadata": {
        "colab": {
          "base_uri": "https://localhost:8080/"
        },
        "id": "26GUtuSxkXHw",
        "outputId": "206100e8-f1f0-43d0-898f-95c6f4d5fcd7"
      },
      "source": [
        "X_train_norm.shape"
      ],
      "execution_count": 39,
      "outputs": [
        {
          "output_type": "execute_result",
          "data": {
            "text/plain": [
              "(10527, 10)"
            ]
          },
          "metadata": {
            "tags": []
          },
          "execution_count": 39
        }
      ]
    },
    {
      "cell_type": "code",
      "metadata": {
        "colab": {
          "base_uri": "https://localhost:8080/"
        },
        "id": "4rnmaY1LkgL5",
        "outputId": "f9b32b93-f213-4d28-8ce4-a4b8b22e9b74"
      },
      "source": [
        "X_test_norm.shape"
      ],
      "execution_count": 40,
      "outputs": [
        {
          "output_type": "execute_result",
          "data": {
            "text/plain": [
              "(4512, 10)"
            ]
          },
          "metadata": {
            "tags": []
          },
          "execution_count": 40
        }
      ]
    },
    {
      "cell_type": "code",
      "metadata": {
        "colab": {
          "base_uri": "https://localhost:8080/"
        },
        "id": "3DlFphYQkjhY",
        "outputId": "238e7c56-d012-45c2-8d8e-1a15fd66f83c"
      },
      "source": [
        "Y_train.shape"
      ],
      "execution_count": 41,
      "outputs": [
        {
          "output_type": "execute_result",
          "data": {
            "text/plain": [
              "(10527,)"
            ]
          },
          "metadata": {
            "tags": []
          },
          "execution_count": 41
        }
      ]
    },
    {
      "cell_type": "code",
      "metadata": {
        "colab": {
          "base_uri": "https://localhost:8080/"
        },
        "id": "w4ZE72ZZklkZ",
        "outputId": "42295e02-cd44-4d0e-dde2-31f1bf14b105"
      },
      "source": [
        "Y_test.shape"
      ],
      "execution_count": 42,
      "outputs": [
        {
          "output_type": "execute_result",
          "data": {
            "text/plain": [
              "(4512,)"
            ]
          },
          "metadata": {
            "tags": []
          },
          "execution_count": 42
        }
      ]
    },
    {
      "cell_type": "markdown",
      "metadata": {
        "id": "3ht9uot_ksnv"
      },
      "source": [
        "# USING NEURAL NETWORK FOR PREDICTION"
      ]
    },
    {
      "cell_type": "code",
      "metadata": {
        "id": "-CWgmdq7ktcw"
      },
      "source": [
        "def baseline_model():\n",
        "    model = Sequential()\n",
        "    model.add(Dense(13, input_dim=10, kernel_initializer='normal', activation='relu'))\n",
        "    model.add(Dense(1, kernel_initializer='normal'))\n",
        "    model.compile(loss='mean_squared_error', optimizer='adam')\n",
        "    return model"
      ],
      "execution_count": 43,
      "outputs": []
    },
    {
      "cell_type": "code",
      "metadata": {
        "id": "MNqv6J9IkvwB"
      },
      "source": [
        "estimator = KerasRegressor(build_fn=baseline_model, epochs=500, batch_size=100, verbose=1)"
      ],
      "execution_count": 44,
      "outputs": []
    },
    {
      "cell_type": "code",
      "metadata": {
        "colab": {
          "base_uri": "https://localhost:8080/"
        },
        "id": "M1ezzM-Tkx40",
        "outputId": "bc29f847-e211-4a53-d6b3-8ef787990f20"
      },
      "source": [
        "estimator.fit(X_train_norm,Y_train)"
      ],
      "execution_count": 45,
      "outputs": [
        {
          "output_type": "stream",
          "text": [
            "Epoch 1/500\n",
            "106/106 [==============================] - 15s 2ms/step - loss: 18154.0645\n",
            "Epoch 2/500\n",
            "106/106 [==============================] - 0s 1ms/step - loss: 17636.8965\n",
            "Epoch 3/500\n",
            "106/106 [==============================] - 0s 1ms/step - loss: 16186.0100\n",
            "Epoch 4/500\n",
            "106/106 [==============================] - 0s 1ms/step - loss: 14091.6405\n",
            "Epoch 5/500\n",
            "106/106 [==============================] - 0s 2ms/step - loss: 11618.8871\n",
            "Epoch 6/500\n",
            "106/106 [==============================] - 0s 2ms/step - loss: 8937.6434\n",
            "Epoch 7/500\n",
            "106/106 [==============================] - 0s 2ms/step - loss: 6510.2503\n",
            "Epoch 8/500\n",
            "106/106 [==============================] - 0s 1ms/step - loss: 4375.8725\n",
            "Epoch 9/500\n",
            "106/106 [==============================] - 0s 1ms/step - loss: 2678.3042\n",
            "Epoch 10/500\n",
            "106/106 [==============================] - 0s 1ms/step - loss: 1522.8495\n",
            "Epoch 11/500\n",
            "106/106 [==============================] - 0s 1ms/step - loss: 787.1532\n",
            "Epoch 12/500\n",
            "106/106 [==============================] - 0s 2ms/step - loss: 391.1241\n",
            "Epoch 13/500\n",
            "106/106 [==============================] - 0s 2ms/step - loss: 197.6952\n",
            "Epoch 14/500\n",
            "106/106 [==============================] - 0s 2ms/step - loss: 116.7577\n",
            "Epoch 15/500\n",
            "106/106 [==============================] - 0s 2ms/step - loss: 86.7054\n",
            "Epoch 16/500\n",
            "106/106 [==============================] - 0s 1ms/step - loss: 74.3689\n",
            "Epoch 17/500\n",
            "106/106 [==============================] - 0s 1ms/step - loss: 69.4778\n",
            "Epoch 18/500\n",
            "106/106 [==============================] - 0s 2ms/step - loss: 66.7151\n",
            "Epoch 19/500\n",
            "106/106 [==============================] - 0s 2ms/step - loss: 67.9375\n",
            "Epoch 20/500\n",
            "106/106 [==============================] - 0s 1ms/step - loss: 67.0844\n",
            "Epoch 21/500\n",
            "106/106 [==============================] - 0s 1ms/step - loss: 62.5443\n",
            "Epoch 22/500\n",
            "106/106 [==============================] - 0s 1ms/step - loss: 61.2831\n",
            "Epoch 23/500\n",
            "106/106 [==============================] - 0s 2ms/step - loss: 61.7521\n",
            "Epoch 24/500\n",
            "106/106 [==============================] - 0s 1ms/step - loss: 62.5323\n",
            "Epoch 25/500\n",
            "106/106 [==============================] - 0s 2ms/step - loss: 58.9607\n",
            "Epoch 26/500\n",
            "106/106 [==============================] - 0s 1ms/step - loss: 57.9983\n",
            "Epoch 27/500\n",
            "106/106 [==============================] - 0s 1ms/step - loss: 55.7430\n",
            "Epoch 28/500\n",
            "106/106 [==============================] - 0s 2ms/step - loss: 53.0205\n",
            "Epoch 29/500\n",
            "106/106 [==============================] - 0s 1ms/step - loss: 52.3051\n",
            "Epoch 30/500\n",
            "106/106 [==============================] - 0s 1ms/step - loss: 51.6759\n",
            "Epoch 31/500\n",
            "106/106 [==============================] - 0s 1ms/step - loss: 50.7407\n",
            "Epoch 32/500\n",
            "106/106 [==============================] - 0s 2ms/step - loss: 49.1583\n",
            "Epoch 33/500\n",
            "106/106 [==============================] - 0s 1ms/step - loss: 46.1754\n",
            "Epoch 34/500\n",
            "106/106 [==============================] - 0s 1ms/step - loss: 45.1138\n",
            "Epoch 35/500\n",
            "106/106 [==============================] - 0s 1ms/step - loss: 45.2487\n",
            "Epoch 36/500\n",
            "106/106 [==============================] - 0s 1ms/step - loss: 44.1937\n",
            "Epoch 37/500\n",
            "106/106 [==============================] - 0s 1ms/step - loss: 40.9615\n",
            "Epoch 38/500\n",
            "106/106 [==============================] - 0s 2ms/step - loss: 41.3485\n",
            "Epoch 39/500\n",
            "106/106 [==============================] - 0s 1ms/step - loss: 38.8361\n",
            "Epoch 40/500\n",
            "106/106 [==============================] - 0s 2ms/step - loss: 37.5983\n",
            "Epoch 41/500\n",
            "106/106 [==============================] - 0s 1ms/step - loss: 37.6435\n",
            "Epoch 42/500\n",
            "106/106 [==============================] - 0s 1ms/step - loss: 36.2784\n",
            "Epoch 43/500\n",
            "106/106 [==============================] - 0s 1ms/step - loss: 35.1151\n",
            "Epoch 44/500\n",
            "106/106 [==============================] - 0s 2ms/step - loss: 34.1715\n",
            "Epoch 45/500\n",
            "106/106 [==============================] - 0s 1ms/step - loss: 33.9044\n",
            "Epoch 46/500\n",
            "106/106 [==============================] - 0s 1ms/step - loss: 32.8722\n",
            "Epoch 47/500\n",
            "106/106 [==============================] - 0s 1ms/step - loss: 32.0669\n",
            "Epoch 48/500\n",
            "106/106 [==============================] - 0s 1ms/step - loss: 31.0538\n",
            "Epoch 49/500\n",
            "106/106 [==============================] - 0s 1ms/step - loss: 30.1130\n",
            "Epoch 50/500\n",
            "106/106 [==============================] - 0s 2ms/step - loss: 29.7655\n",
            "Epoch 51/500\n",
            "106/106 [==============================] - 0s 2ms/step - loss: 28.9332\n",
            "Epoch 52/500\n",
            "106/106 [==============================] - 0s 2ms/step - loss: 29.4119\n",
            "Epoch 53/500\n",
            "106/106 [==============================] - 0s 1ms/step - loss: 28.8855\n",
            "Epoch 54/500\n",
            "106/106 [==============================] - 0s 1ms/step - loss: 28.2536\n",
            "Epoch 55/500\n",
            "106/106 [==============================] - 0s 1ms/step - loss: 27.8278\n",
            "Epoch 56/500\n",
            "106/106 [==============================] - 0s 1ms/step - loss: 27.7947\n",
            "Epoch 57/500\n",
            "106/106 [==============================] - 0s 1ms/step - loss: 26.5538\n",
            "Epoch 58/500\n",
            "106/106 [==============================] - 0s 1ms/step - loss: 26.6798\n",
            "Epoch 59/500\n",
            "106/106 [==============================] - 0s 1ms/step - loss: 26.6902\n",
            "Epoch 60/500\n",
            "106/106 [==============================] - 0s 1ms/step - loss: 26.4126\n",
            "Epoch 61/500\n",
            "106/106 [==============================] - 0s 1ms/step - loss: 26.2989\n",
            "Epoch 62/500\n",
            "106/106 [==============================] - 0s 2ms/step - loss: 25.3525\n",
            "Epoch 63/500\n",
            "106/106 [==============================] - 0s 1ms/step - loss: 25.1973\n",
            "Epoch 64/500\n",
            "106/106 [==============================] - 0s 1ms/step - loss: 24.6340\n",
            "Epoch 65/500\n",
            "106/106 [==============================] - 0s 1ms/step - loss: 24.9974\n",
            "Epoch 66/500\n",
            "106/106 [==============================] - 0s 1ms/step - loss: 25.3366\n",
            "Epoch 67/500\n",
            "106/106 [==============================] - 0s 1ms/step - loss: 24.6375\n",
            "Epoch 68/500\n",
            "106/106 [==============================] - 0s 1ms/step - loss: 24.3987\n",
            "Epoch 69/500\n",
            "106/106 [==============================] - 0s 1ms/step - loss: 23.7962\n",
            "Epoch 70/500\n",
            "106/106 [==============================] - 0s 2ms/step - loss: 24.5479\n",
            "Epoch 71/500\n",
            "106/106 [==============================] - 0s 2ms/step - loss: 23.3357\n",
            "Epoch 72/500\n",
            "106/106 [==============================] - 0s 1ms/step - loss: 22.6887\n",
            "Epoch 73/500\n",
            "106/106 [==============================] - 0s 1ms/step - loss: 22.9039\n",
            "Epoch 74/500\n",
            "106/106 [==============================] - 0s 1ms/step - loss: 22.4732\n",
            "Epoch 75/500\n",
            "106/106 [==============================] - 0s 2ms/step - loss: 22.1748\n",
            "Epoch 76/500\n",
            "106/106 [==============================] - 0s 2ms/step - loss: 22.7691\n",
            "Epoch 77/500\n",
            "106/106 [==============================] - 0s 2ms/step - loss: 22.5994\n",
            "Epoch 78/500\n",
            "106/106 [==============================] - 0s 1ms/step - loss: 22.3767\n",
            "Epoch 79/500\n",
            "106/106 [==============================] - 0s 1ms/step - loss: 21.8213\n",
            "Epoch 80/500\n",
            "106/106 [==============================] - 0s 1ms/step - loss: 21.0707\n",
            "Epoch 81/500\n",
            "106/106 [==============================] - 0s 2ms/step - loss: 20.7144\n",
            "Epoch 82/500\n",
            "106/106 [==============================] - 0s 1ms/step - loss: 20.4548\n",
            "Epoch 83/500\n",
            "106/106 [==============================] - 0s 2ms/step - loss: 20.0061\n",
            "Epoch 84/500\n",
            "106/106 [==============================] - 0s 2ms/step - loss: 20.1749\n",
            "Epoch 85/500\n",
            "106/106 [==============================] - 0s 1ms/step - loss: 19.8856\n",
            "Epoch 86/500\n",
            "106/106 [==============================] - 0s 2ms/step - loss: 19.3505\n",
            "Epoch 87/500\n",
            "106/106 [==============================] - 0s 1ms/step - loss: 19.3586\n",
            "Epoch 88/500\n",
            "106/106 [==============================] - 0s 2ms/step - loss: 19.3826\n",
            "Epoch 89/500\n",
            "106/106 [==============================] - 0s 2ms/step - loss: 19.0208\n",
            "Epoch 90/500\n",
            "106/106 [==============================] - 0s 2ms/step - loss: 18.4202\n",
            "Epoch 91/500\n",
            "106/106 [==============================] - 0s 1ms/step - loss: 17.4717\n",
            "Epoch 92/500\n",
            "106/106 [==============================] - 0s 1ms/step - loss: 17.4579\n",
            "Epoch 93/500\n",
            "106/106 [==============================] - 0s 1ms/step - loss: 17.4591\n",
            "Epoch 94/500\n",
            "106/106 [==============================] - 0s 1ms/step - loss: 17.0644\n",
            "Epoch 95/500\n",
            "106/106 [==============================] - 0s 2ms/step - loss: 16.8458\n",
            "Epoch 96/500\n",
            "106/106 [==============================] - 0s 1ms/step - loss: 16.0507\n",
            "Epoch 97/500\n",
            "106/106 [==============================] - 0s 1ms/step - loss: 16.1904\n",
            "Epoch 98/500\n",
            "106/106 [==============================] - 0s 2ms/step - loss: 15.4768\n",
            "Epoch 99/500\n",
            "106/106 [==============================] - 0s 2ms/step - loss: 15.4275\n",
            "Epoch 100/500\n",
            "106/106 [==============================] - 0s 2ms/step - loss: 15.0916\n",
            "Epoch 101/500\n",
            "106/106 [==============================] - 0s 1ms/step - loss: 14.8689\n",
            "Epoch 102/500\n",
            "106/106 [==============================] - 0s 2ms/step - loss: 14.6541\n",
            "Epoch 103/500\n",
            "106/106 [==============================] - 0s 1ms/step - loss: 14.3276\n",
            "Epoch 104/500\n",
            "106/106 [==============================] - 0s 2ms/step - loss: 13.9425\n",
            "Epoch 105/500\n",
            "106/106 [==============================] - 0s 1ms/step - loss: 13.8299\n",
            "Epoch 106/500\n",
            "106/106 [==============================] - 0s 2ms/step - loss: 13.1976\n",
            "Epoch 107/500\n",
            "106/106 [==============================] - 0s 1ms/step - loss: 13.1704\n",
            "Epoch 108/500\n",
            "106/106 [==============================] - 0s 1ms/step - loss: 13.0157\n",
            "Epoch 109/500\n",
            "106/106 [==============================] - 0s 1ms/step - loss: 12.6074\n",
            "Epoch 110/500\n",
            "106/106 [==============================] - 0s 2ms/step - loss: 12.1864\n",
            "Epoch 111/500\n",
            "106/106 [==============================] - 0s 1ms/step - loss: 11.9797\n",
            "Epoch 112/500\n",
            "106/106 [==============================] - 0s 1ms/step - loss: 11.7081\n",
            "Epoch 113/500\n",
            "106/106 [==============================] - 0s 1ms/step - loss: 11.4956\n",
            "Epoch 114/500\n",
            "106/106 [==============================] - 0s 1ms/step - loss: 11.5402\n",
            "Epoch 115/500\n",
            "106/106 [==============================] - 0s 1ms/step - loss: 10.9804\n",
            "Epoch 116/500\n",
            "106/106 [==============================] - 0s 2ms/step - loss: 10.8884\n",
            "Epoch 117/500\n",
            "106/106 [==============================] - 0s 2ms/step - loss: 10.5402\n",
            "Epoch 118/500\n",
            "106/106 [==============================] - 0s 1ms/step - loss: 10.0172\n",
            "Epoch 119/500\n",
            "106/106 [==============================] - 0s 2ms/step - loss: 9.9746\n",
            "Epoch 120/500\n",
            "106/106 [==============================] - 0s 1ms/step - loss: 9.6296\n",
            "Epoch 121/500\n",
            "106/106 [==============================] - 0s 1ms/step - loss: 9.5585\n",
            "Epoch 122/500\n",
            "106/106 [==============================] - 0s 2ms/step - loss: 9.3933\n",
            "Epoch 123/500\n",
            "106/106 [==============================] - 0s 2ms/step - loss: 9.1299\n",
            "Epoch 124/500\n",
            "106/106 [==============================] - 0s 1ms/step - loss: 8.7460\n",
            "Epoch 125/500\n",
            "106/106 [==============================] - 0s 2ms/step - loss: 8.5197\n",
            "Epoch 126/500\n",
            "106/106 [==============================] - 0s 1ms/step - loss: 8.2634\n",
            "Epoch 127/500\n",
            "106/106 [==============================] - 0s 1ms/step - loss: 8.1540\n",
            "Epoch 128/500\n",
            "106/106 [==============================] - 0s 2ms/step - loss: 7.8679\n",
            "Epoch 129/500\n",
            "106/106 [==============================] - 0s 2ms/step - loss: 7.7240\n",
            "Epoch 130/500\n",
            "106/106 [==============================] - 0s 2ms/step - loss: 7.3500\n",
            "Epoch 131/500\n",
            "106/106 [==============================] - 0s 1ms/step - loss: 7.2414\n",
            "Epoch 132/500\n",
            "106/106 [==============================] - 0s 1ms/step - loss: 7.1187\n",
            "Epoch 133/500\n",
            "106/106 [==============================] - 0s 2ms/step - loss: 6.6646\n",
            "Epoch 134/500\n",
            "106/106 [==============================] - 0s 2ms/step - loss: 6.6032\n",
            "Epoch 135/500\n",
            "106/106 [==============================] - 0s 2ms/step - loss: 6.2837\n",
            "Epoch 136/500\n",
            "106/106 [==============================] - 0s 2ms/step - loss: 6.2435\n",
            "Epoch 137/500\n",
            "106/106 [==============================] - 0s 2ms/step - loss: 5.8402\n",
            "Epoch 138/500\n",
            "106/106 [==============================] - 0s 2ms/step - loss: 5.7299\n",
            "Epoch 139/500\n",
            "106/106 [==============================] - 0s 1ms/step - loss: 5.4100\n",
            "Epoch 140/500\n",
            "106/106 [==============================] - 0s 1ms/step - loss: 5.2936\n",
            "Epoch 141/500\n",
            "106/106 [==============================] - 0s 2ms/step - loss: 4.9718\n",
            "Epoch 142/500\n",
            "106/106 [==============================] - 0s 2ms/step - loss: 4.8198\n",
            "Epoch 143/500\n",
            "106/106 [==============================] - 0s 1ms/step - loss: 4.7081\n",
            "Epoch 144/500\n",
            "106/106 [==============================] - 0s 1ms/step - loss: 4.4105\n",
            "Epoch 145/500\n",
            "106/106 [==============================] - 0s 2ms/step - loss: 4.3862\n",
            "Epoch 146/500\n",
            "106/106 [==============================] - 0s 2ms/step - loss: 4.3166\n",
            "Epoch 147/500\n",
            "106/106 [==============================] - 0s 2ms/step - loss: 4.0224\n",
            "Epoch 148/500\n",
            "106/106 [==============================] - 0s 2ms/step - loss: 3.9261\n",
            "Epoch 149/500\n",
            "106/106 [==============================] - 0s 2ms/step - loss: 3.7119\n",
            "Epoch 150/500\n",
            "106/106 [==============================] - 0s 1ms/step - loss: 3.5077\n",
            "Epoch 151/500\n",
            "106/106 [==============================] - 0s 2ms/step - loss: 3.4074\n",
            "Epoch 152/500\n",
            "106/106 [==============================] - 0s 2ms/step - loss: 3.2949\n",
            "Epoch 153/500\n",
            "106/106 [==============================] - 0s 2ms/step - loss: 3.0832\n",
            "Epoch 154/500\n",
            "106/106 [==============================] - 0s 2ms/step - loss: 3.0722\n",
            "Epoch 155/500\n",
            "106/106 [==============================] - 0s 2ms/step - loss: 2.8919\n",
            "Epoch 156/500\n",
            "106/106 [==============================] - 0s 2ms/step - loss: 2.6578\n",
            "Epoch 157/500\n",
            "106/106 [==============================] - 0s 1ms/step - loss: 2.6034\n",
            "Epoch 158/500\n",
            "106/106 [==============================] - 0s 2ms/step - loss: 2.4446\n",
            "Epoch 159/500\n",
            "106/106 [==============================] - 0s 2ms/step - loss: 2.3115\n",
            "Epoch 160/500\n",
            "106/106 [==============================] - 0s 2ms/step - loss: 2.2365\n",
            "Epoch 161/500\n",
            "106/106 [==============================] - 0s 1ms/step - loss: 2.0940\n",
            "Epoch 162/500\n",
            "106/106 [==============================] - 0s 2ms/step - loss: 1.9848\n",
            "Epoch 163/500\n",
            "106/106 [==============================] - 0s 2ms/step - loss: 1.8758\n",
            "Epoch 164/500\n",
            "106/106 [==============================] - 0s 2ms/step - loss: 1.8108\n",
            "Epoch 165/500\n",
            "106/106 [==============================] - 0s 2ms/step - loss: 1.7430\n",
            "Epoch 166/500\n",
            "106/106 [==============================] - 0s 2ms/step - loss: 1.6290\n",
            "Epoch 167/500\n",
            "106/106 [==============================] - 0s 2ms/step - loss: 1.5492\n",
            "Epoch 168/500\n",
            "106/106 [==============================] - 0s 2ms/step - loss: 1.5073\n",
            "Epoch 169/500\n",
            "106/106 [==============================] - 0s 2ms/step - loss: 1.4321\n",
            "Epoch 170/500\n",
            "106/106 [==============================] - 0s 2ms/step - loss: 1.3456\n",
            "Epoch 171/500\n",
            "106/106 [==============================] - 0s 2ms/step - loss: 1.3024\n",
            "Epoch 172/500\n",
            "106/106 [==============================] - 0s 2ms/step - loss: 1.2817\n",
            "Epoch 173/500\n",
            "106/106 [==============================] - 0s 1ms/step - loss: 1.2180\n",
            "Epoch 174/500\n",
            "106/106 [==============================] - 0s 2ms/step - loss: 1.1338\n",
            "Epoch 175/500\n",
            "106/106 [==============================] - 0s 2ms/step - loss: 1.1284\n",
            "Epoch 176/500\n",
            "106/106 [==============================] - 0s 2ms/step - loss: 1.1248\n",
            "Epoch 177/500\n",
            "106/106 [==============================] - 0s 2ms/step - loss: 0.9941\n",
            "Epoch 178/500\n",
            "106/106 [==============================] - 0s 2ms/step - loss: 0.9642\n",
            "Epoch 179/500\n",
            "106/106 [==============================] - 0s 1ms/step - loss: 0.9785\n",
            "Epoch 180/500\n",
            "106/106 [==============================] - 0s 2ms/step - loss: 0.9193\n",
            "Epoch 181/500\n",
            "106/106 [==============================] - 0s 2ms/step - loss: 0.8794\n",
            "Epoch 182/500\n",
            "106/106 [==============================] - 0s 1ms/step - loss: 0.8993\n",
            "Epoch 183/500\n",
            "106/106 [==============================] - 0s 2ms/step - loss: 0.8764\n",
            "Epoch 184/500\n",
            "106/106 [==============================] - 0s 2ms/step - loss: 0.8213\n",
            "Epoch 185/500\n",
            "106/106 [==============================] - 0s 2ms/step - loss: 0.8395\n",
            "Epoch 186/500\n",
            "106/106 [==============================] - 0s 2ms/step - loss: 0.8221\n",
            "Epoch 187/500\n",
            "106/106 [==============================] - 0s 1ms/step - loss: 0.7760\n",
            "Epoch 188/500\n",
            "106/106 [==============================] - 0s 2ms/step - loss: 0.7897\n",
            "Epoch 189/500\n",
            "106/106 [==============================] - 0s 2ms/step - loss: 0.7993\n",
            "Epoch 190/500\n",
            "106/106 [==============================] - 0s 2ms/step - loss: 0.7832\n",
            "Epoch 191/500\n",
            "106/106 [==============================] - 0s 2ms/step - loss: 0.7472\n",
            "Epoch 192/500\n",
            "106/106 [==============================] - 0s 2ms/step - loss: 0.7469\n",
            "Epoch 193/500\n",
            "106/106 [==============================] - 0s 2ms/step - loss: 0.7733\n",
            "Epoch 194/500\n",
            "106/106 [==============================] - 0s 2ms/step - loss: 0.7539\n",
            "Epoch 195/500\n",
            "106/106 [==============================] - 0s 2ms/step - loss: 0.7637\n",
            "Epoch 196/500\n",
            "106/106 [==============================] - 0s 1ms/step - loss: 0.7595\n",
            "Epoch 197/500\n",
            "106/106 [==============================] - 0s 2ms/step - loss: 0.7332\n",
            "Epoch 198/500\n",
            "106/106 [==============================] - 0s 2ms/step - loss: 0.7272\n",
            "Epoch 199/500\n",
            "106/106 [==============================] - 0s 1ms/step - loss: 0.7351\n",
            "Epoch 200/500\n",
            "106/106 [==============================] - 0s 2ms/step - loss: 0.7350\n",
            "Epoch 201/500\n",
            "106/106 [==============================] - 0s 2ms/step - loss: 0.7197\n",
            "Epoch 202/500\n",
            "106/106 [==============================] - 0s 2ms/step - loss: 0.7579\n",
            "Epoch 203/500\n",
            "106/106 [==============================] - 0s 2ms/step - loss: 0.7587\n",
            "Epoch 204/500\n",
            "106/106 [==============================] - 0s 2ms/step - loss: 0.7361\n",
            "Epoch 205/500\n",
            "106/106 [==============================] - 0s 2ms/step - loss: 0.7664\n",
            "Epoch 206/500\n",
            "106/106 [==============================] - 0s 2ms/step - loss: 0.7261\n",
            "Epoch 207/500\n",
            "106/106 [==============================] - 0s 2ms/step - loss: 0.7288\n",
            "Epoch 208/500\n",
            "106/106 [==============================] - 0s 2ms/step - loss: 0.7175\n",
            "Epoch 209/500\n",
            "106/106 [==============================] - 0s 1ms/step - loss: 0.7434\n",
            "Epoch 210/500\n",
            "106/106 [==============================] - 0s 2ms/step - loss: 0.7134\n",
            "Epoch 211/500\n",
            "106/106 [==============================] - 0s 1ms/step - loss: 0.7668\n",
            "Epoch 212/500\n",
            "106/106 [==============================] - 0s 2ms/step - loss: 0.7187\n",
            "Epoch 213/500\n",
            "106/106 [==============================] - 0s 2ms/step - loss: 0.7216\n",
            "Epoch 214/500\n",
            "106/106 [==============================] - 0s 2ms/step - loss: 0.7176\n",
            "Epoch 215/500\n",
            "106/106 [==============================] - 0s 2ms/step - loss: 0.6931\n",
            "Epoch 216/500\n",
            "106/106 [==============================] - 0s 2ms/step - loss: 0.7161\n",
            "Epoch 217/500\n",
            "106/106 [==============================] - 0s 2ms/step - loss: 0.7155\n",
            "Epoch 218/500\n",
            "106/106 [==============================] - 0s 2ms/step - loss: 0.7260\n",
            "Epoch 219/500\n",
            "106/106 [==============================] - 0s 2ms/step - loss: 0.7257\n",
            "Epoch 220/500\n",
            "106/106 [==============================] - 0s 2ms/step - loss: 0.7318\n",
            "Epoch 221/500\n",
            "106/106 [==============================] - 0s 1ms/step - loss: 0.7173\n",
            "Epoch 222/500\n",
            "106/106 [==============================] - 0s 1ms/step - loss: 0.7106\n",
            "Epoch 223/500\n",
            "106/106 [==============================] - 0s 2ms/step - loss: 0.7160\n",
            "Epoch 224/500\n",
            "106/106 [==============================] - 0s 2ms/step - loss: 0.6975\n",
            "Epoch 225/500\n",
            "106/106 [==============================] - 0s 1ms/step - loss: 0.7066\n",
            "Epoch 226/500\n",
            "106/106 [==============================] - 0s 2ms/step - loss: 0.7160\n",
            "Epoch 227/500\n",
            "106/106 [==============================] - 0s 2ms/step - loss: 0.7045\n",
            "Epoch 228/500\n",
            "106/106 [==============================] - 0s 1ms/step - loss: 0.7135\n",
            "Epoch 229/500\n",
            "106/106 [==============================] - 0s 1ms/step - loss: 0.7175\n",
            "Epoch 230/500\n",
            "106/106 [==============================] - 0s 1ms/step - loss: 0.7110\n",
            "Epoch 231/500\n",
            "106/106 [==============================] - 0s 1ms/step - loss: 0.7470\n",
            "Epoch 232/500\n",
            "106/106 [==============================] - 0s 2ms/step - loss: 0.7552\n",
            "Epoch 233/500\n",
            "106/106 [==============================] - 0s 1ms/step - loss: 0.6954\n",
            "Epoch 234/500\n",
            "106/106 [==============================] - 0s 2ms/step - loss: 0.7155\n",
            "Epoch 235/500\n",
            "106/106 [==============================] - 0s 2ms/step - loss: 0.7168\n",
            "Epoch 236/500\n",
            "106/106 [==============================] - 0s 2ms/step - loss: 0.7164\n",
            "Epoch 237/500\n",
            "106/106 [==============================] - 0s 2ms/step - loss: 0.7106\n",
            "Epoch 238/500\n",
            "106/106 [==============================] - 0s 2ms/step - loss: 0.7404\n",
            "Epoch 239/500\n",
            "106/106 [==============================] - 0s 1ms/step - loss: 0.7242\n",
            "Epoch 240/500\n",
            "106/106 [==============================] - 0s 2ms/step - loss: 0.6989\n",
            "Epoch 241/500\n",
            "106/106 [==============================] - 0s 2ms/step - loss: 0.7347\n",
            "Epoch 242/500\n",
            "106/106 [==============================] - 0s 2ms/step - loss: 0.6881\n",
            "Epoch 243/500\n",
            "106/106 [==============================] - 0s 2ms/step - loss: 0.7413\n",
            "Epoch 244/500\n",
            "106/106 [==============================] - 0s 1ms/step - loss: 0.7239\n",
            "Epoch 245/500\n",
            "106/106 [==============================] - 0s 2ms/step - loss: 0.7154\n",
            "Epoch 246/500\n",
            "106/106 [==============================] - 0s 1ms/step - loss: 0.7231\n",
            "Epoch 247/500\n",
            "106/106 [==============================] - 0s 2ms/step - loss: 0.6874\n",
            "Epoch 248/500\n",
            "106/106 [==============================] - 0s 2ms/step - loss: 0.6987\n",
            "Epoch 249/500\n",
            "106/106 [==============================] - 0s 2ms/step - loss: 0.7362\n",
            "Epoch 250/500\n",
            "106/106 [==============================] - 0s 2ms/step - loss: 0.7271\n",
            "Epoch 251/500\n",
            "106/106 [==============================] - 0s 2ms/step - loss: 0.7191\n",
            "Epoch 252/500\n",
            "106/106 [==============================] - 0s 2ms/step - loss: 0.7049\n",
            "Epoch 253/500\n",
            "106/106 [==============================] - 0s 2ms/step - loss: 0.7302\n",
            "Epoch 254/500\n",
            "106/106 [==============================] - 0s 2ms/step - loss: 0.7116\n",
            "Epoch 255/500\n",
            "106/106 [==============================] - 0s 2ms/step - loss: 0.7155\n",
            "Epoch 256/500\n",
            "106/106 [==============================] - 0s 2ms/step - loss: 0.7132\n",
            "Epoch 257/500\n",
            "106/106 [==============================] - 0s 2ms/step - loss: 0.7072\n",
            "Epoch 258/500\n",
            "106/106 [==============================] - 0s 2ms/step - loss: 0.7151\n",
            "Epoch 259/500\n",
            "106/106 [==============================] - 0s 2ms/step - loss: 0.6908\n",
            "Epoch 260/500\n",
            "106/106 [==============================] - 0s 1ms/step - loss: 0.7037\n",
            "Epoch 261/500\n",
            "106/106 [==============================] - 0s 2ms/step - loss: 0.7550\n",
            "Epoch 262/500\n",
            "106/106 [==============================] - 0s 1ms/step - loss: 0.7076\n",
            "Epoch 263/500\n",
            "106/106 [==============================] - 0s 1ms/step - loss: 0.6738\n",
            "Epoch 264/500\n",
            "106/106 [==============================] - 0s 2ms/step - loss: 0.7042\n",
            "Epoch 265/500\n",
            "106/106 [==============================] - 0s 2ms/step - loss: 0.7024\n",
            "Epoch 266/500\n",
            "106/106 [==============================] - 0s 2ms/step - loss: 0.7130\n",
            "Epoch 267/500\n",
            "106/106 [==============================] - 0s 2ms/step - loss: 0.6953\n",
            "Epoch 268/500\n",
            "106/106 [==============================] - 0s 2ms/step - loss: 0.7025\n",
            "Epoch 269/500\n",
            "106/106 [==============================] - 0s 2ms/step - loss: 0.6925\n",
            "Epoch 270/500\n",
            "106/106 [==============================] - 0s 2ms/step - loss: 0.6866\n",
            "Epoch 271/500\n",
            "106/106 [==============================] - 0s 2ms/step - loss: 0.6877\n",
            "Epoch 272/500\n",
            "106/106 [==============================] - 0s 2ms/step - loss: 0.7061\n",
            "Epoch 273/500\n",
            "106/106 [==============================] - 0s 2ms/step - loss: 0.7074\n",
            "Epoch 274/500\n",
            "106/106 [==============================] - 0s 2ms/step - loss: 0.6960\n",
            "Epoch 275/500\n",
            "106/106 [==============================] - 0s 2ms/step - loss: 0.6953\n",
            "Epoch 276/500\n",
            "106/106 [==============================] - 0s 2ms/step - loss: 0.6898\n",
            "Epoch 277/500\n",
            "106/106 [==============================] - 0s 2ms/step - loss: 0.7255\n",
            "Epoch 278/500\n",
            "106/106 [==============================] - 0s 1ms/step - loss: 0.7268\n",
            "Epoch 279/500\n",
            "106/106 [==============================] - 0s 2ms/step - loss: 0.6765\n",
            "Epoch 280/500\n",
            "106/106 [==============================] - 0s 2ms/step - loss: 0.6822\n",
            "Epoch 281/500\n",
            "106/106 [==============================] - 0s 2ms/step - loss: 0.7162\n",
            "Epoch 282/500\n",
            "106/106 [==============================] - 0s 2ms/step - loss: 0.6818\n",
            "Epoch 283/500\n",
            "106/106 [==============================] - 0s 1ms/step - loss: 0.6936\n",
            "Epoch 284/500\n",
            "106/106 [==============================] - 0s 1ms/step - loss: 0.7012\n",
            "Epoch 285/500\n",
            "106/106 [==============================] - 0s 2ms/step - loss: 0.7250\n",
            "Epoch 286/500\n",
            "106/106 [==============================] - 0s 2ms/step - loss: 0.6708\n",
            "Epoch 287/500\n",
            "106/106 [==============================] - 0s 2ms/step - loss: 0.6850\n",
            "Epoch 288/500\n",
            "106/106 [==============================] - 0s 2ms/step - loss: 0.7268\n",
            "Epoch 289/500\n",
            "106/106 [==============================] - 0s 2ms/step - loss: 0.6871\n",
            "Epoch 290/500\n",
            "106/106 [==============================] - 0s 1ms/step - loss: 0.7168\n",
            "Epoch 291/500\n",
            "106/106 [==============================] - 0s 1ms/step - loss: 0.6539\n",
            "Epoch 292/500\n",
            "106/106 [==============================] - 0s 2ms/step - loss: 0.6852\n",
            "Epoch 293/500\n",
            "106/106 [==============================] - 0s 2ms/step - loss: 0.7285\n",
            "Epoch 294/500\n",
            "106/106 [==============================] - 0s 2ms/step - loss: 0.7139\n",
            "Epoch 295/500\n",
            "106/106 [==============================] - 0s 2ms/step - loss: 0.6885\n",
            "Epoch 296/500\n",
            "106/106 [==============================] - 0s 1ms/step - loss: 0.7238\n",
            "Epoch 297/500\n",
            "106/106 [==============================] - 0s 2ms/step - loss: 0.6953\n",
            "Epoch 298/500\n",
            "106/106 [==============================] - 0s 2ms/step - loss: 0.7222\n",
            "Epoch 299/500\n",
            "106/106 [==============================] - 0s 2ms/step - loss: 0.6834\n",
            "Epoch 300/500\n",
            "106/106 [==============================] - 0s 2ms/step - loss: 0.7115\n",
            "Epoch 301/500\n",
            "106/106 [==============================] - 0s 2ms/step - loss: 0.6644\n",
            "Epoch 302/500\n",
            "106/106 [==============================] - 0s 2ms/step - loss: 0.6797\n",
            "Epoch 303/500\n",
            "106/106 [==============================] - 0s 2ms/step - loss: 0.6573\n",
            "Epoch 304/500\n",
            "106/106 [==============================] - 0s 2ms/step - loss: 0.7046\n",
            "Epoch 305/500\n",
            "106/106 [==============================] - 0s 2ms/step - loss: 0.6701\n",
            "Epoch 306/500\n",
            "106/106 [==============================] - 0s 2ms/step - loss: 0.6730\n",
            "Epoch 307/500\n",
            "106/106 [==============================] - 0s 2ms/step - loss: 0.7048\n",
            "Epoch 308/500\n",
            "106/106 [==============================] - 0s 2ms/step - loss: 0.7221\n",
            "Epoch 309/500\n",
            "106/106 [==============================] - 0s 2ms/step - loss: 0.6880\n",
            "Epoch 310/500\n",
            "106/106 [==============================] - 0s 2ms/step - loss: 0.6931\n",
            "Epoch 311/500\n",
            "106/106 [==============================] - 0s 2ms/step - loss: 0.6990\n",
            "Epoch 312/500\n",
            "106/106 [==============================] - 0s 2ms/step - loss: 0.6652\n",
            "Epoch 313/500\n",
            "106/106 [==============================] - 0s 2ms/step - loss: 0.7144\n",
            "Epoch 314/500\n",
            "106/106 [==============================] - 0s 2ms/step - loss: 0.6811\n",
            "Epoch 315/500\n",
            "106/106 [==============================] - 0s 2ms/step - loss: 0.6780\n",
            "Epoch 316/500\n",
            "106/106 [==============================] - 0s 2ms/step - loss: 0.6900\n",
            "Epoch 317/500\n",
            "106/106 [==============================] - 0s 2ms/step - loss: 0.6885\n",
            "Epoch 318/500\n",
            "106/106 [==============================] - 0s 2ms/step - loss: 0.7272\n",
            "Epoch 319/500\n",
            "106/106 [==============================] - 0s 1ms/step - loss: 0.7008\n",
            "Epoch 320/500\n",
            "106/106 [==============================] - 0s 2ms/step - loss: 0.6752\n",
            "Epoch 321/500\n",
            "106/106 [==============================] - 0s 2ms/step - loss: 0.7137\n",
            "Epoch 322/500\n",
            "106/106 [==============================] - 0s 2ms/step - loss: 0.6892\n",
            "Epoch 323/500\n",
            "106/106 [==============================] - 0s 2ms/step - loss: 0.6971\n",
            "Epoch 324/500\n",
            "106/106 [==============================] - 0s 2ms/step - loss: 0.6601\n",
            "Epoch 325/500\n",
            "106/106 [==============================] - 0s 2ms/step - loss: 0.6987\n",
            "Epoch 326/500\n",
            "106/106 [==============================] - 0s 2ms/step - loss: 0.7005\n",
            "Epoch 327/500\n",
            "106/106 [==============================] - 0s 2ms/step - loss: 0.6543\n",
            "Epoch 328/500\n",
            "106/106 [==============================] - 0s 2ms/step - loss: 0.7059\n",
            "Epoch 329/500\n",
            "106/106 [==============================] - 0s 1ms/step - loss: 0.7014\n",
            "Epoch 330/500\n",
            "106/106 [==============================] - 0s 2ms/step - loss: 0.7030\n",
            "Epoch 331/500\n",
            "106/106 [==============================] - 0s 2ms/step - loss: 0.6878\n",
            "Epoch 332/500\n",
            "106/106 [==============================] - 0s 2ms/step - loss: 0.6872\n",
            "Epoch 333/500\n",
            "106/106 [==============================] - 0s 2ms/step - loss: 0.6633\n",
            "Epoch 334/500\n",
            "106/106 [==============================] - 0s 2ms/step - loss: 0.6641\n",
            "Epoch 335/500\n",
            "106/106 [==============================] - 0s 2ms/step - loss: 0.6716\n",
            "Epoch 336/500\n",
            "106/106 [==============================] - 0s 2ms/step - loss: 0.6892\n",
            "Epoch 337/500\n",
            "106/106 [==============================] - 0s 2ms/step - loss: 0.6589\n",
            "Epoch 338/500\n",
            "106/106 [==============================] - 0s 2ms/step - loss: 0.6700\n",
            "Epoch 339/500\n",
            "106/106 [==============================] - 0s 2ms/step - loss: 0.6738\n",
            "Epoch 340/500\n",
            "106/106 [==============================] - 0s 2ms/step - loss: 0.6972\n",
            "Epoch 341/500\n",
            "106/106 [==============================] - 0s 1ms/step - loss: 0.6773\n",
            "Epoch 342/500\n",
            "106/106 [==============================] - 0s 2ms/step - loss: 0.6903\n",
            "Epoch 343/500\n",
            "106/106 [==============================] - 0s 2ms/step - loss: 0.6435\n",
            "Epoch 344/500\n",
            "106/106 [==============================] - 0s 2ms/step - loss: 0.6539\n",
            "Epoch 345/500\n",
            "106/106 [==============================] - 0s 2ms/step - loss: 0.6752\n",
            "Epoch 346/500\n",
            "106/106 [==============================] - 0s 2ms/step - loss: 0.6779\n",
            "Epoch 347/500\n",
            "106/106 [==============================] - 0s 2ms/step - loss: 0.6618\n",
            "Epoch 348/500\n",
            "106/106 [==============================] - 0s 2ms/step - loss: 0.6750\n",
            "Epoch 349/500\n",
            "106/106 [==============================] - 0s 2ms/step - loss: 0.6512\n",
            "Epoch 350/500\n",
            "106/106 [==============================] - 0s 2ms/step - loss: 0.6507\n",
            "Epoch 351/500\n",
            "106/106 [==============================] - 0s 2ms/step - loss: 0.6781\n",
            "Epoch 352/500\n",
            "106/106 [==============================] - 0s 2ms/step - loss: 0.6578\n",
            "Epoch 353/500\n",
            "106/106 [==============================] - 0s 2ms/step - loss: 0.6781\n",
            "Epoch 354/500\n",
            "106/106 [==============================] - 0s 2ms/step - loss: 0.6603\n",
            "Epoch 355/500\n",
            "106/106 [==============================] - 0s 2ms/step - loss: 0.6761\n",
            "Epoch 356/500\n",
            "106/106 [==============================] - 0s 2ms/step - loss: 0.6668\n",
            "Epoch 357/500\n",
            "106/106 [==============================] - 0s 2ms/step - loss: 0.6589\n",
            "Epoch 358/500\n",
            "106/106 [==============================] - 0s 2ms/step - loss: 0.6697\n",
            "Epoch 359/500\n",
            "106/106 [==============================] - 0s 2ms/step - loss: 0.6904\n",
            "Epoch 360/500\n",
            "106/106 [==============================] - 0s 2ms/step - loss: 0.6909\n",
            "Epoch 361/500\n",
            "106/106 [==============================] - 0s 2ms/step - loss: 0.6602\n",
            "Epoch 362/500\n",
            "106/106 [==============================] - 0s 2ms/step - loss: 0.6704\n",
            "Epoch 363/500\n",
            "106/106 [==============================] - 0s 2ms/step - loss: 0.6833\n",
            "Epoch 364/500\n",
            "106/106 [==============================] - 0s 2ms/step - loss: 0.6816\n",
            "Epoch 365/500\n",
            "106/106 [==============================] - 0s 2ms/step - loss: 0.6624\n",
            "Epoch 366/500\n",
            "106/106 [==============================] - 0s 1ms/step - loss: 0.6738\n",
            "Epoch 367/500\n",
            "106/106 [==============================] - 0s 2ms/step - loss: 0.6831\n",
            "Epoch 368/500\n",
            "106/106 [==============================] - 0s 2ms/step - loss: 0.6684\n",
            "Epoch 369/500\n",
            "106/106 [==============================] - 0s 2ms/step - loss: 0.6752\n",
            "Epoch 370/500\n",
            "106/106 [==============================] - 0s 2ms/step - loss: 0.6697\n",
            "Epoch 371/500\n",
            "106/106 [==============================] - 0s 2ms/step - loss: 0.6694\n",
            "Epoch 372/500\n",
            "106/106 [==============================] - 0s 2ms/step - loss: 0.6869\n",
            "Epoch 373/500\n",
            "106/106 [==============================] - 0s 2ms/step - loss: 0.6755\n",
            "Epoch 374/500\n",
            "106/106 [==============================] - 0s 2ms/step - loss: 0.6622\n",
            "Epoch 375/500\n",
            "106/106 [==============================] - 0s 2ms/step - loss: 0.6649\n",
            "Epoch 376/500\n",
            "106/106 [==============================] - 0s 2ms/step - loss: 0.6728\n",
            "Epoch 377/500\n",
            "106/106 [==============================] - 0s 1ms/step - loss: 0.6821\n",
            "Epoch 378/500\n",
            "106/106 [==============================] - 0s 2ms/step - loss: 0.6754\n",
            "Epoch 379/500\n",
            "106/106 [==============================] - 0s 2ms/step - loss: 0.6932\n",
            "Epoch 380/500\n",
            "106/106 [==============================] - 0s 1ms/step - loss: 0.6601\n",
            "Epoch 381/500\n",
            "106/106 [==============================] - 0s 1ms/step - loss: 0.6649\n",
            "Epoch 382/500\n",
            "106/106 [==============================] - 0s 1ms/step - loss: 0.6668\n",
            "Epoch 383/500\n",
            "106/106 [==============================] - 0s 1ms/step - loss: 0.6711\n",
            "Epoch 384/500\n",
            "106/106 [==============================] - 0s 2ms/step - loss: 0.6688\n",
            "Epoch 385/500\n",
            "106/106 [==============================] - 0s 1ms/step - loss: 0.6628\n",
            "Epoch 386/500\n",
            "106/106 [==============================] - 0s 1ms/step - loss: 0.6782\n",
            "Epoch 387/500\n",
            "106/106 [==============================] - 0s 2ms/step - loss: 0.6335\n",
            "Epoch 388/500\n",
            "106/106 [==============================] - 0s 2ms/step - loss: 0.6428\n",
            "Epoch 389/500\n",
            "106/106 [==============================] - 0s 2ms/step - loss: 0.6649\n",
            "Epoch 390/500\n",
            "106/106 [==============================] - 0s 2ms/step - loss: 0.6668\n",
            "Epoch 391/500\n",
            "106/106 [==============================] - 0s 2ms/step - loss: 0.6593\n",
            "Epoch 392/500\n",
            "106/106 [==============================] - 0s 2ms/step - loss: 0.6603\n",
            "Epoch 393/500\n",
            "106/106 [==============================] - 0s 2ms/step - loss: 0.6462\n",
            "Epoch 394/500\n",
            "106/106 [==============================] - 0s 2ms/step - loss: 0.6690\n",
            "Epoch 395/500\n",
            "106/106 [==============================] - 0s 2ms/step - loss: 0.6539\n",
            "Epoch 396/500\n",
            "106/106 [==============================] - 0s 2ms/step - loss: 0.6681\n",
            "Epoch 397/500\n",
            "106/106 [==============================] - 0s 2ms/step - loss: 0.6700\n",
            "Epoch 398/500\n",
            "106/106 [==============================] - 0s 2ms/step - loss: 0.6465\n",
            "Epoch 399/500\n",
            "106/106 [==============================] - 0s 2ms/step - loss: 0.6855\n",
            "Epoch 400/500\n",
            "106/106 [==============================] - 0s 2ms/step - loss: 0.6596\n",
            "Epoch 401/500\n",
            "106/106 [==============================] - 0s 1ms/step - loss: 0.6580\n",
            "Epoch 402/500\n",
            "106/106 [==============================] - 0s 2ms/step - loss: 0.6532\n",
            "Epoch 403/500\n",
            "106/106 [==============================] - 0s 2ms/step - loss: 0.6959\n",
            "Epoch 404/500\n",
            "106/106 [==============================] - 0s 1ms/step - loss: 0.6474\n",
            "Epoch 405/500\n",
            "106/106 [==============================] - 0s 2ms/step - loss: 0.6728\n",
            "Epoch 406/500\n",
            "106/106 [==============================] - 0s 2ms/step - loss: 0.6493\n",
            "Epoch 407/500\n",
            "106/106 [==============================] - 0s 2ms/step - loss: 0.6482\n",
            "Epoch 408/500\n",
            "106/106 [==============================] - 0s 2ms/step - loss: 0.6825\n",
            "Epoch 409/500\n",
            "106/106 [==============================] - 0s 2ms/step - loss: 0.6538\n",
            "Epoch 410/500\n",
            "106/106 [==============================] - 0s 1ms/step - loss: 0.6567\n",
            "Epoch 411/500\n",
            "106/106 [==============================] - 0s 2ms/step - loss: 0.6573\n",
            "Epoch 412/500\n",
            "106/106 [==============================] - 0s 2ms/step - loss: 0.6775\n",
            "Epoch 413/500\n",
            "106/106 [==============================] - 0s 2ms/step - loss: 0.6498\n",
            "Epoch 414/500\n",
            "106/106 [==============================] - 0s 2ms/step - loss: 0.6641\n",
            "Epoch 415/500\n",
            "106/106 [==============================] - 0s 2ms/step - loss: 0.6341\n",
            "Epoch 416/500\n",
            "106/106 [==============================] - 0s 2ms/step - loss: 0.6561\n",
            "Epoch 417/500\n",
            "106/106 [==============================] - 0s 2ms/step - loss: 0.6621\n",
            "Epoch 418/500\n",
            "106/106 [==============================] - 0s 2ms/step - loss: 0.6696\n",
            "Epoch 419/500\n",
            "106/106 [==============================] - 0s 2ms/step - loss: 0.6612\n",
            "Epoch 420/500\n",
            "106/106 [==============================] - 0s 2ms/step - loss: 0.6408\n",
            "Epoch 421/500\n",
            "106/106 [==============================] - 0s 1ms/step - loss: 0.6250\n",
            "Epoch 422/500\n",
            "106/106 [==============================] - 0s 1ms/step - loss: 0.6581\n",
            "Epoch 423/500\n",
            "106/106 [==============================] - 0s 2ms/step - loss: 0.6507\n",
            "Epoch 424/500\n",
            "106/106 [==============================] - 0s 2ms/step - loss: 0.6551\n",
            "Epoch 425/500\n",
            "106/106 [==============================] - 0s 2ms/step - loss: 0.6440\n",
            "Epoch 426/500\n",
            "106/106 [==============================] - 0s 2ms/step - loss: 0.6553\n",
            "Epoch 427/500\n",
            "106/106 [==============================] - 0s 2ms/step - loss: 0.6616\n",
            "Epoch 428/500\n",
            "106/106 [==============================] - 0s 2ms/step - loss: 0.6490\n",
            "Epoch 429/500\n",
            "106/106 [==============================] - 0s 2ms/step - loss: 0.6544\n",
            "Epoch 430/500\n",
            "106/106 [==============================] - 0s 2ms/step - loss: 0.6571\n",
            "Epoch 431/500\n",
            "106/106 [==============================] - 0s 2ms/step - loss: 0.6557\n",
            "Epoch 432/500\n",
            "106/106 [==============================] - 0s 2ms/step - loss: 0.6961\n",
            "Epoch 433/500\n",
            "106/106 [==============================] - 0s 2ms/step - loss: 0.6480\n",
            "Epoch 434/500\n",
            "106/106 [==============================] - 0s 2ms/step - loss: 0.6919\n",
            "Epoch 435/500\n",
            "106/106 [==============================] - 0s 2ms/step - loss: 0.6465\n",
            "Epoch 436/500\n",
            "106/106 [==============================] - 0s 2ms/step - loss: 0.6716\n",
            "Epoch 437/500\n",
            "106/106 [==============================] - 0s 2ms/step - loss: 0.6526\n",
            "Epoch 438/500\n",
            "106/106 [==============================] - 0s 1ms/step - loss: 0.6139\n",
            "Epoch 439/500\n",
            "106/106 [==============================] - 0s 2ms/step - loss: 0.6200\n",
            "Epoch 440/500\n",
            "106/106 [==============================] - 0s 2ms/step - loss: 0.6439\n",
            "Epoch 441/500\n",
            "106/106 [==============================] - 0s 1ms/step - loss: 0.6576\n",
            "Epoch 442/500\n",
            "106/106 [==============================] - 0s 1ms/step - loss: 0.6167\n",
            "Epoch 443/500\n",
            "106/106 [==============================] - 0s 2ms/step - loss: 0.6514\n",
            "Epoch 444/500\n",
            "106/106 [==============================] - 0s 2ms/step - loss: 0.6481\n",
            "Epoch 445/500\n",
            "106/106 [==============================] - 0s 2ms/step - loss: 0.6486\n",
            "Epoch 446/500\n",
            "106/106 [==============================] - 0s 2ms/step - loss: 0.6534\n",
            "Epoch 447/500\n",
            "106/106 [==============================] - 0s 1ms/step - loss: 0.6207\n",
            "Epoch 448/500\n",
            "106/106 [==============================] - 0s 2ms/step - loss: 0.6666\n",
            "Epoch 449/500\n",
            "106/106 [==============================] - 0s 2ms/step - loss: 0.6238\n",
            "Epoch 450/500\n",
            "106/106 [==============================] - 0s 2ms/step - loss: 0.6415\n",
            "Epoch 451/500\n",
            "106/106 [==============================] - 0s 2ms/step - loss: 0.6335\n",
            "Epoch 452/500\n",
            "106/106 [==============================] - 0s 2ms/step - loss: 0.6416\n",
            "Epoch 453/500\n",
            "106/106 [==============================] - 0s 2ms/step - loss: 0.6564\n",
            "Epoch 454/500\n",
            "106/106 [==============================] - 0s 2ms/step - loss: 0.6568\n",
            "Epoch 455/500\n",
            "106/106 [==============================] - 0s 2ms/step - loss: 0.6311\n",
            "Epoch 456/500\n",
            "106/106 [==============================] - 0s 2ms/step - loss: 0.6255\n",
            "Epoch 457/500\n",
            "106/106 [==============================] - 0s 2ms/step - loss: 0.6561\n",
            "Epoch 458/500\n",
            "106/106 [==============================] - 0s 2ms/step - loss: 0.6328\n",
            "Epoch 459/500\n",
            "106/106 [==============================] - 0s 1ms/step - loss: 0.6498\n",
            "Epoch 460/500\n",
            "106/106 [==============================] - 0s 2ms/step - loss: 0.6717\n",
            "Epoch 461/500\n",
            "106/106 [==============================] - 0s 2ms/step - loss: 0.6321\n",
            "Epoch 462/500\n",
            "106/106 [==============================] - 0s 2ms/step - loss: 0.6474\n",
            "Epoch 463/500\n",
            "106/106 [==============================] - 0s 1ms/step - loss: 0.6600\n",
            "Epoch 464/500\n",
            "106/106 [==============================] - 0s 2ms/step - loss: 0.6435\n",
            "Epoch 465/500\n",
            "106/106 [==============================] - 0s 2ms/step - loss: 0.6395\n",
            "Epoch 466/500\n",
            "106/106 [==============================] - 0s 2ms/step - loss: 0.6699\n",
            "Epoch 467/500\n",
            "106/106 [==============================] - 0s 2ms/step - loss: 0.6252\n",
            "Epoch 468/500\n",
            "106/106 [==============================] - 0s 2ms/step - loss: 0.6375\n",
            "Epoch 469/500\n",
            "106/106 [==============================] - 0s 2ms/step - loss: 0.6618\n",
            "Epoch 470/500\n",
            "106/106 [==============================] - 0s 2ms/step - loss: 0.6215\n",
            "Epoch 471/500\n",
            "106/106 [==============================] - 0s 2ms/step - loss: 0.6176\n",
            "Epoch 472/500\n",
            "106/106 [==============================] - 0s 2ms/step - loss: 0.6581\n",
            "Epoch 473/500\n",
            "106/106 [==============================] - 0s 2ms/step - loss: 0.6411\n",
            "Epoch 474/500\n",
            "106/106 [==============================] - 0s 2ms/step - loss: 0.6416\n",
            "Epoch 475/500\n",
            "106/106 [==============================] - 0s 2ms/step - loss: 0.6373\n",
            "Epoch 476/500\n",
            "106/106 [==============================] - 0s 2ms/step - loss: 0.6380\n",
            "Epoch 477/500\n",
            "106/106 [==============================] - 0s 2ms/step - loss: 0.6429\n",
            "Epoch 478/500\n",
            "106/106 [==============================] - 0s 2ms/step - loss: 0.6524\n",
            "Epoch 479/500\n",
            "106/106 [==============================] - 0s 2ms/step - loss: 0.6476\n",
            "Epoch 480/500\n",
            "106/106 [==============================] - 0s 2ms/step - loss: 0.6451\n",
            "Epoch 481/500\n",
            "106/106 [==============================] - 0s 2ms/step - loss: 0.6368\n",
            "Epoch 482/500\n",
            "106/106 [==============================] - 0s 2ms/step - loss: 0.6595\n",
            "Epoch 483/500\n",
            "106/106 [==============================] - 0s 2ms/step - loss: 0.6395\n",
            "Epoch 484/500\n",
            "106/106 [==============================] - 0s 2ms/step - loss: 0.6335\n",
            "Epoch 485/500\n",
            "106/106 [==============================] - 0s 2ms/step - loss: 0.6526\n",
            "Epoch 486/500\n",
            "106/106 [==============================] - 0s 2ms/step - loss: 0.6316\n",
            "Epoch 487/500\n",
            "106/106 [==============================] - 0s 2ms/step - loss: 0.6334\n",
            "Epoch 488/500\n",
            "106/106 [==============================] - 0s 2ms/step - loss: 0.6216\n",
            "Epoch 489/500\n",
            "106/106 [==============================] - 0s 2ms/step - loss: 0.6255\n",
            "Epoch 490/500\n",
            "106/106 [==============================] - 0s 1ms/step - loss: 0.6258\n",
            "Epoch 491/500\n",
            "106/106 [==============================] - 0s 1ms/step - loss: 0.6256\n",
            "Epoch 492/500\n",
            "106/106 [==============================] - 0s 2ms/step - loss: 0.6239\n",
            "Epoch 493/500\n",
            "106/106 [==============================] - 0s 2ms/step - loss: 0.6444\n",
            "Epoch 494/500\n",
            "106/106 [==============================] - 0s 2ms/step - loss: 0.6172\n",
            "Epoch 495/500\n",
            "106/106 [==============================] - 0s 2ms/step - loss: 0.6196\n",
            "Epoch 496/500\n",
            "106/106 [==============================] - 0s 2ms/step - loss: 0.6377\n",
            "Epoch 497/500\n",
            "106/106 [==============================] - 0s 2ms/step - loss: 0.6289\n",
            "Epoch 498/500\n",
            "106/106 [==============================] - 0s 2ms/step - loss: 0.6211\n",
            "Epoch 499/500\n",
            "106/106 [==============================] - 0s 2ms/step - loss: 0.6346\n",
            "Epoch 500/500\n",
            "106/106 [==============================] - 0s 2ms/step - loss: 0.6634\n"
          ],
          "name": "stdout"
        },
        {
          "output_type": "execute_result",
          "data": {
            "text/plain": [
              "<keras.callbacks.History at 0x7f0fb4e0ac10>"
            ]
          },
          "metadata": {
            "tags": []
          },
          "execution_count": 45
        }
      ]
    },
    {
      "cell_type": "code",
      "metadata": {
        "colab": {
          "base_uri": "https://localhost:8080/"
        },
        "id": "nKFT92X2k0Ow",
        "outputId": "c6135537-d5ad-43f1-fe77-89a699ac70cb"
      },
      "source": [
        "y_pred = estimator.predict(X_test_norm)"
      ],
      "execution_count": 46,
      "outputs": [
        {
          "output_type": "stream",
          "text": [
            "46/46 [==============================] - 0s 959us/step\n"
          ],
          "name": "stdout"
        }
      ]
    },
    {
      "cell_type": "code",
      "metadata": {
        "colab": {
          "base_uri": "https://localhost:8080/"
        },
        "id": "X7IB7G38k-7L",
        "outputId": "0fd775b0-3383-417b-bee8-bc392517a03b"
      },
      "source": [
        "y_pred"
      ],
      "execution_count": 47,
      "outputs": [
        {
          "output_type": "execute_result",
          "data": {
            "text/plain": [
              "array([133.36917 , 122.617775, 132.59897 , ..., 133.35197 , 129.61311 ,\n",
              "       161.8763  ], dtype=float32)"
            ]
          },
          "metadata": {
            "tags": []
          },
          "execution_count": 47
        }
      ]
    },
    {
      "cell_type": "code",
      "metadata": {
        "colab": {
          "base_uri": "https://localhost:8080/"
        },
        "id": "WbP-bxoClA7l",
        "outputId": "02eb02b7-1f95-4e5c-e92e-7e963741b06f"
      },
      "source": [
        "y_pred.shape"
      ],
      "execution_count": 48,
      "outputs": [
        {
          "output_type": "execute_result",
          "data": {
            "text/plain": [
              "(4512,)"
            ]
          },
          "metadata": {
            "tags": []
          },
          "execution_count": 48
        }
      ]
    },
    {
      "cell_type": "code",
      "metadata": {
        "colab": {
          "base_uri": "https://localhost:8080/"
        },
        "id": "gvtuuPXllF4m",
        "outputId": "04f7be72-ef9f-4449-c532-7a7e756677a5"
      },
      "source": [
        "# RMSE Value for Test data\n",
        "from sklearn.metrics import mean_squared_error\n",
        "rmse = mean_squared_error(Y_test, y_pred, squared=False)\n",
        "rmse"
      ],
      "execution_count": 49,
      "outputs": [
        {
          "output_type": "execute_result",
          "data": {
            "text/plain": [
              "0.7954449309173286"
            ]
          },
          "metadata": {
            "tags": []
          },
          "execution_count": 49
        }
      ]
    },
    {
      "cell_type": "code",
      "metadata": {
        "colab": {
          "base_uri": "https://localhost:8080/"
        },
        "id": "7x7ptt6qlPgj",
        "outputId": "d41946d7-00d6-42c6-9e79-b32d62ad2d84"
      },
      "source": [
        "# RMSE for Train Data\n",
        "y_pred_train = estimator.predict(X_train_norm)"
      ],
      "execution_count": 50,
      "outputs": [
        {
          "output_type": "stream",
          "text": [
            "106/106 [==============================] - 0s 850us/step\n"
          ],
          "name": "stdout"
        }
      ]
    },
    {
      "cell_type": "code",
      "metadata": {
        "colab": {
          "base_uri": "https://localhost:8080/"
        },
        "id": "QA1636w1lXaS",
        "outputId": "9f0d36c7-e63c-4ab5-a6f1-b0c5bd5a7e09"
      },
      "source": [
        "rmse_train = mean_squared_error(Y_train, y_pred_train, squared=False)\n",
        "rmse_train"
      ],
      "execution_count": 51,
      "outputs": [
        {
          "output_type": "execute_result",
          "data": {
            "text/plain": [
              "0.7977465557681138"
            ]
          },
          "metadata": {
            "tags": []
          },
          "execution_count": 51
        }
      ]
    },
    {
      "cell_type": "code",
      "metadata": {
        "id": "bN3dS0fgljsU"
      },
      "source": [
        ""
      ],
      "execution_count": null,
      "outputs": []
    }
  ]
}